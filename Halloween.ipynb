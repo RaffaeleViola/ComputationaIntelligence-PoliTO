{
 "cells": [
  {
   "cell_type": "markdown",
   "id": "185f9931-b384-4fdc-a5b2-eea785428bb8",
   "metadata": {},
   "source": [
    "Copyright **`(c)`** 2023 Giovanni Squillero `<giovanni.squillero@polito.it>`  \n",
    "[`https://github.com/squillero/computational-intelligence`](https://github.com/squillero/computational-intelligence)  \n",
    "Free for personal or classroom use; see [`LICENSE.md`](https://github.com/squillero/computational-intelligence/blob/master/LICENSE.md) for details.  "
   ]
  },
  {
   "cell_type": "code",
   "execution_count": 17,
   "id": "3ffe7245-e849-41d0-9698-5f0e0b83fee9",
   "metadata": {},
   "outputs": [],
   "source": [
    "from itertools import product\n",
    "from random import random, randint, choice, seed, choices\n",
    "import numpy as np\n",
    "from scipy import sparse\n",
    "from copy import  copy\n",
    "from functools import reduce"
   ]
  },
  {
   "cell_type": "code",
   "execution_count": 18,
   "id": "6f03bd67-78a0-4d72-95b7-77a918727b91",
   "metadata": {},
   "outputs": [],
   "source": [
    "def make_set_covering_problem(num_points, num_sets, density):\n",
    "    \"\"\"Returns a sparse array where rows are sets and columns are the covered items\"\"\"\n",
    "    seed(num_points*2654435761+num_sets+density)\n",
    "    sets = sparse.lil_array((num_sets, num_points), dtype=bool)\n",
    "    for s, p in product(range(num_sets), range(num_points)):\n",
    "        if random() < density:\n",
    "            sets[s, p] = True\n",
    "    for p in range(num_points):\n",
    "        sets[randint(0, num_sets-1), p] = True\n",
    "    return sets"
   ]
  },
  {
   "cell_type": "markdown",
   "id": "82b0be37-21d9-492d-9a1d-cf0cdf0ddd76",
   "metadata": {},
   "source": [
    "# Halloween Challenge\n",
    "\n",
    "Find the best solution with the fewest calls to the fitness functions for:\n",
    "\n",
    "* `num_points = [100, 1_000, 5_000]`\n",
    "* `num_sets = num_points`\n",
    "* `density = [.3, .7]`"
   ]
  },
  {
   "cell_type": "code",
   "execution_count": 19,
   "id": "6492337b-8429-472d-9c3e-c79c5b46da54",
   "metadata": {},
   "outputs": [],
   "source": [
    "def fitness1(sets, state):\n",
    "    cost = sum(state)\n",
    "    valid = np.all(\n",
    "        reduce(\n",
    "            np.logical_or,\n",
    "            [sets[i, :] for i, t in enumerate(state) if t],\n",
    "            np.array([False for _ in range(sets.shape[1])]),\n",
    "        )\n",
    "    )\n",
    "    return valid, -cost\n",
    "\n",
    "def fitness2(sets, state):\n",
    "    cost = sum(state)\n",
    "    if np.array(state).any():\n",
    "        valid = sets[np.array(state), :].max(axis=0).sum()\n",
    "    else:\n",
    "        valid = 0\n",
    "    return valid, -cost\n",
    "\n",
    "fitness = fitness2"
   ]
  },
  {
   "cell_type": "code",
   "execution_count": 20,
   "outputs": [],
   "source": [
    "def tweak(state, size):\n",
    "    new_state = copy(state)\n",
    "    index = randint(0, size - 1)\n",
    "    new_state[index] = not new_state[index]\n",
    "    return new_state"
   ],
   "metadata": {
    "collapsed": false
   }
  },
  {
   "cell_type": "code",
   "execution_count": 25,
   "outputs": [],
   "source": [
    "NUM_SETS = 1_000\n",
    "NUM_NODES = 1_000\n",
    "sets = make_set_covering_problem(NUM_SETS, NUM_NODES, .3).toarray()"
   ],
   "metadata": {
    "collapsed": false
   }
  },
  {
   "cell_type": "markdown",
   "source": [
    "<h1 align=\"center\">Standard Hill Climbing<h1>"
   ],
   "metadata": {
    "collapsed": false
   }
  },
  {
   "cell_type": "code",
   "execution_count": null,
   "outputs": [],
   "source": [
    "current_state = [choice([False, False, False, False, False, False]) for _ in range(NUM_SETS)]\n",
    "print(fitness(sets, current_state))\n",
    "fitness_calls = 0\n",
    "# visited map\n",
    "visited = dict()\n",
    "\n",
    "for step in range(10_000):\n",
    "    new_state = tweak(current_state, NUM_SETS)\n",
    "    curr_tuple = tuple(current_state)\n",
    "    new_tuple = tuple(new_state)\n",
    "    if curr_tuple in visited:\n",
    "        s = visited[curr_tuple]\n",
    "    else:\n",
    "        s = fitness(sets, current_state)\n",
    "        fitness_calls += 1\n",
    "        visited[curr_tuple] = s\n",
    "    if new_tuple in visited:\n",
    "        s_new = visited[new_tuple]\n",
    "    else:\n",
    "        s_new = fitness(sets, new_state)\n",
    "        fitness_calls += 1\n",
    "        visited[new_tuple] = s_new\n",
    "    if s_new >= s:\n",
    "        current_state = new_state\n",
    "        print(fitness(sets, current_state))\n",
    "print(fitness_calls)"
   ],
   "metadata": {
    "collapsed": false,
    "pycharm": {
     "is_executing": true
    }
   }
  },
  {
   "cell_type": "markdown",
   "source": [
    "<h1 align=\"center\">Simulated Annealing Hill Climbing<h1>"
   ],
   "metadata": {
    "collapsed": false
   }
  },
  {
   "cell_type": "code",
   "execution_count": null,
   "outputs": [],
   "source": [
    "# parameters\n",
    "T = 1\n",
    "Tmin = 0.0001\n",
    "alpha = 0.95\n",
    "numIterations = 220\n",
    "# visited map\n",
    "visited = dict()\n",
    "\n",
    "global_min = ()\n",
    "s_min = (0, 0)\n",
    "fitness_calls = 0\n",
    "while T >= Tmin:\n",
    "    for step in range(numIterations):\n",
    "        new_state = tweak(current_state, NUM_SETS)\n",
    "        curr_tuple = tuple(current_state)\n",
    "        new_tuple = tuple(new_state)\n",
    "        if curr_tuple in visited:\n",
    "            s = visited[curr_tuple]\n",
    "        else:\n",
    "            s = fitness(sets, current_state)\n",
    "            fitness_calls += 1\n",
    "            visited[curr_tuple] = s\n",
    "        if new_tuple in visited:\n",
    "            s_new = visited[new_tuple]\n",
    "        else:\n",
    "            s_new = fitness(sets, new_state)\n",
    "            fitness_calls += 1\n",
    "            visited[new_tuple] = s_new\n",
    "        if s_new >= s:\n",
    "            current_state = new_state\n",
    "            if s_new > s_min:\n",
    "                global_min = new_state\n",
    "                s_min = s_new\n",
    "        else:\n",
    "             p = np.exp(-(sum(s) - sum(s_new)) / T)\n",
    "             current_state = choices([current_state, new_state], weights=(1 - p, p), k=1)[0]\n",
    "    T *= alpha  # Decreases T, cooling phase\n",
    "\n",
    "print(s_min)\n",
    "print(fitness_calls)"
   ],
   "metadata": {
    "collapsed": false,
    "pycharm": {
     "is_executing": true
    }
   }
  }
 ],
 "metadata": {
  "kernelspec": {
   "display_name": "Python 3 (ipykernel)",
   "language": "python",
   "name": "python3"
  },
  "language_info": {
   "codemirror_mode": {
    "name": "ipython",
    "version": 3
   },
   "file_extension": ".py",
   "mimetype": "text/x-python",
   "name": "python",
   "nbconvert_exporter": "python",
   "pygments_lexer": "ipython3",
   "version": "3.11.2"
  }
 },
 "nbformat": 4,
 "nbformat_minor": 5
}
