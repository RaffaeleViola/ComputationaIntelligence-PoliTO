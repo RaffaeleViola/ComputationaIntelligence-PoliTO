{
 "cells": [
  {
   "cell_type": "code",
   "execution_count": 135,
   "outputs": [],
   "source": [
    "import numpy as np\n",
    "from random import random\n",
    "from queue import PriorityQueue, SimpleQueue\n",
    "from functools import reduce"
   ],
   "metadata": {
    "collapsed": false
   }
  },
  {
   "cell_type": "code",
   "execution_count": 136,
   "outputs": [],
   "source": [
    "PROBLEM_SIZE = 5\n",
    "NUM_SETS = 10"
   ],
   "metadata": {
    "collapsed": false
   }
  },
  {
   "cell_type": "code",
   "execution_count": 137,
   "outputs": [],
   "source": [
    "sets = tuple(np.array([random() < .3 for _ in range(PROBLEM_SIZE)]) for _ in range(NUM_SETS))"
   ],
   "metadata": {
    "collapsed": false
   }
  },
  {
   "cell_type": "code",
   "execution_count": 138,
   "outputs": [],
   "source": [
    "def goal_check(state):\n",
    "    return np.all(reduce(np.logical_or, [sets[i] for i in state[0]], np.array([False for _ in range(PROBLEM_SIZE)])))\n",
    "\n",
    "def compute_priority(state):\n",
    "    sum_vec = []\n",
    "    for j in range(PROBLEM_SIZE):\n",
    "        cur_sum = 0\n",
    "        for i in state[0]:\n",
    "            cur_sum += sets[i][j]\n",
    "        sum_vec.append(cur_sum)\n",
    "    sum_vec = np.array(sum_vec)\n",
    "    return len(state[0]) * sum_vec[sum_vec > 1].sum() + len(state[0])\n",
    "\n",
    "\n"
   ],
   "metadata": {
    "collapsed": false
   }
  },
  {
   "cell_type": "code",
   "execution_count": 139,
   "outputs": [],
   "source": [
    "assert goal_check((set(range(NUM_SETS)), set())), \"NOT SOLVABLE\""
   ],
   "metadata": {
    "collapsed": false
   }
  },
  {
   "cell_type": "code",
   "execution_count": 140,
   "outputs": [],
   "source": [
    "frontier = PriorityQueue()\n",
    "frontier.put( (0, (set(), set(range(NUM_SETS)))) )"
   ],
   "metadata": {
    "collapsed": false
   }
  },
  {
   "cell_type": "code",
   "execution_count": 141,
   "outputs": [
    {
     "name": "stdout",
     "output_type": "stream",
     "text": [
      "13\n",
      "SOLUTION\n",
      "[ True False  True False  True]\n",
      "[False  True False  True False]\n",
      "SETS\n",
      "[ True False False  True False]\n",
      "[ True False  True False  True]\n",
      "[False  True  True False  True]\n",
      "[False False False  True False]\n",
      "[ True False  True  True  True]\n",
      "[False False  True  True  True]\n",
      "[False False  True  True  True]\n",
      "[False  True False False False]\n",
      "[False False False False  True]\n",
      "[False  True False  True False]\n"
     ]
    }
   ],
   "source": [
    "current_state = frontier.get()[1]\n",
    "counter = 0\n",
    "\n",
    "while not goal_check(current_state):\n",
    "    counter += 1\n",
    "    for action in current_state[1]:\n",
    "        if sum(sets[action]) == 0:\n",
    "            continue\n",
    "        new_state = (current_state[0] | {action}, current_state[1] - {action})\n",
    "        frontier.put( (compute_priority(new_state), new_state) )\n",
    "    current_state = frontier.get()[1]\n",
    "\n",
    "print(counter)\n",
    "print(\"SOLUTION\")\n",
    "for i in current_state[0]:\n",
    "    print(sets[i])\n",
    "print(\"SETS\")\n",
    "for i in range(NUM_SETS):\n",
    "    print(sets[i])"
   ],
   "metadata": {
    "collapsed": false
   }
  }
 ],
 "metadata": {
  "kernelspec": {
   "display_name": "Python 3",
   "language": "python",
   "name": "python3"
  },
  "language_info": {
   "codemirror_mode": {
    "name": "ipython",
    "version": 2
   },
   "file_extension": ".py",
   "mimetype": "text/x-python",
   "name": "python",
   "nbconvert_exporter": "python",
   "pygments_lexer": "ipython2",
   "version": "2.7.6"
  }
 },
 "nbformat": 4,
 "nbformat_minor": 0
}
