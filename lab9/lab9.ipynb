{
 "cells": [
  {
   "cell_type": "markdown",
   "metadata": {},
   "source": [
    "Copyright **`(c)`** 2023 Giovanni Squillero `<giovanni.squillero@polito.it>`  \n",
    "[`https://github.com/squillero/computational-intelligence`](https://github.com/squillero/computational-intelligence)  \n",
    "Free for personal or classroom use; see [`LICENSE.md`](https://github.com/squillero/computational-intelligence/blob/master/LICENSE.md) for details.  "
   ]
  },
  {
   "cell_type": "markdown",
   "metadata": {},
   "source": [
    "# LAB9\n",
    "\n",
    "Write a local-search algorithm (eg. an EA) able to solve the *Problem* instances 1, 2, 5, and 10 on a 1000-loci genomes, using a minimum number of fitness calls. That's all.\n",
    "\n",
    "### Deadlines:\n",
    "\n",
    "* Submission: Sunday, December 3 ([CET](https://www.timeanddate.com/time/zones/cet))\n",
    "* Reviews: Sunday, December 10 ([CET](https://www.timeanddate.com/time/zones/cet))\n",
    "\n",
    "Notes:\n",
    "\n",
    "* Reviews will be assigned  on Monday, December 4\n",
    "* You need to commit in order to be selected as a reviewer (ie. better to commit an empty work than not to commit)"
   ]
  },
  {
   "cell_type": "code",
   "execution_count": 132,
   "metadata": {},
   "outputs": [],
   "source": [
    "from random import choices, choice, randint, random\n",
    "from copy import copy\n",
    "from dataclasses import dataclass\n",
    "from tqdm import tqdm\n",
    "import numpy as np\n",
    "\n",
    "import lab9_lib"
   ]
  },
  {
   "cell_type": "code",
   "execution_count": 148,
   "metadata": {},
   "outputs": [
    {
     "name": "stdout",
     "output_type": "stream",
     "text": [
      "0.5\n"
     ]
    }
   ],
   "source": [
    "fitness = lab9_lib.make_problem(2)\n",
    "some = [0] * 1000\n",
    "for i in range(1, 1000, 2):\n",
    "    some[i] = 1\n",
    "print(fitness(some))\n",
    "# for n in range(10):\n",
    "#     ind = choices([0, 1], k=1000)\n",
    "#     print(f\"{''.join(str(g) for g in ind)}: {fitness(ind):.2%}\")\n",
    "# fitnesses = sorted((some[s :: 2] for s in range(2)), reverse=True)\n",
    "# print(fitnesses)\n",
    "# print(fitness.calls)"
   ]
  },
  {
   "cell_type": "code",
   "execution_count": 133,
   "metadata": {},
   "outputs": [],
   "source": []
  },
  {
   "cell_type": "code",
   "execution_count": 134,
   "outputs": [],
   "source": [
    "POPULATION_SIZE = 25\n",
    "OFFSPRING_SIZE = 10\n",
    "TOURNAMENT_SIZE = 5\n",
    "MUTATION_PROBABILITY = .30\n",
    "INDIVIDUAL_SIZE = 1000\n",
    "ACCEPTANCE = 0.001"
   ],
   "metadata": {
    "collapsed": false
   }
  },
  {
   "cell_type": "code",
   "execution_count": 149,
   "outputs": [],
   "source": [
    "\n",
    "class Individual:\n",
    "    def __init__(self, fitness, genotype: np.ndarray):\n",
    "        self.fitness = fitness\n",
    "        self.genotype = genotype\n",
    "\n",
    "    @staticmethod\n",
    "    def generate(size = INDIVIDUAL_SIZE):\n",
    "        return Individual(fitness = None, genotype = np.random.choice(a = np.array([True, False]), size = size))\n",
    "\n",
    "def select_parent(pop):\n",
    "    pool = [choice(pop) for _ in range(TOURNAMENT_SIZE)]\n",
    "    champion = max(pool, key=lambda i: i.fitness)\n",
    "    return champion\n",
    "\n",
    "def mutate(ind: Individual) -> Individual:\n",
    "    offspring = Individual(None, ind.genotype.copy())\n",
    "    pos = randint(0, INDIVIDUAL_SIZE-1)\n",
    "    offspring.genotype[pos] = not offspring.genotype[pos]\n",
    "    return offspring\n",
    "\n",
    "def mutation(g):\n",
    "    offspring = Individual(None, ind.genotype.copy())\n",
    "    point = randint(0, INDIVIDUAL_SIZE - 1)\n",
    "    offspring.genotype = offspring.genotype[:point] + (1 - offspring.genotype[point],) + offspring.genotype[point + 1 :]\n",
    "    return offspring\n",
    "\n",
    "def one_cut_xover(ind1: Individual, ind2: Individual) -> Individual:\n",
    "    cut_point = randint(0, INDIVIDUAL_SIZE-1)\n",
    "    offspring = Individual(fitness=None,\n",
    "                           genotype=np.concatenate( (ind1.genotype[:cut_point], ind2.genotype[cut_point:]) ))\n",
    "    assert offspring.genotype.shape[0] == INDIVIDUAL_SIZE\n",
    "    return offspring\n",
    "\n",
    "def uniform_xover(ind1: Individual, ind2: Individual) -> Individual:\n",
    "    mask1 = np.random.choice([True, False], size = INDIVIDUAL_SIZE)\n",
    "    mask2 = np.logical_not(mask1)\n",
    "    assert np.logical_or(mask1, mask2).sum() == INDIVIDUAL_SIZE\n",
    "    tmp1 = np.logical_and(ind1.genotype, mask1)\n",
    "    tmp2 = np.logical_and(ind2.genotype, mask2)\n",
    "    new_genotype = np.logical_or(tmp1, tmp2)\n",
    "    return Individual(None, new_genotype)\n",
    "\n",
    "def or_xover(ind1: Individual, ind2: Individual) -> Individual:\n",
    "    new_genotype = np.logical_or(ind1.genotype, ind2.genotype)\n",
    "    return Individual(None, new_genotype)"
   ],
   "metadata": {
    "collapsed": false
   }
  },
  {
   "cell_type": "code",
   "execution_count": 136,
   "outputs": [],
   "source": [
    "def generate_population(fitness_func, size = POPULATION_SIZE):\n",
    "    population = [ Individual.generate() for _ in range(size)]\n",
    "    for ind in population:\n",
    "        ind.fitness = fitness_func(ind.genotype)\n",
    "        print(ind.fitness)\n",
    "    return population"
   ],
   "metadata": {
    "collapsed": false
   }
  },
  {
   "cell_type": "markdown",
   "source": [
    "# 1 - Problem"
   ],
   "metadata": {
    "collapsed": false
   }
  },
  {
   "cell_type": "code",
   "execution_count": 137,
   "outputs": [
    {
     "name": "stdout",
     "output_type": "stream",
     "text": [
      "0.524\n",
      "0.502\n",
      "0.508\n",
      "0.51\n",
      "0.487\n",
      "0.51\n",
      "0.503\n",
      "0.495\n",
      "0.511\n",
      "0.512\n",
      "0.497\n",
      "0.519\n",
      "0.491\n",
      "0.522\n",
      "0.507\n",
      "0.501\n",
      "0.501\n",
      "0.493\n",
      "0.487\n",
      "0.483\n",
      "0.481\n",
      "0.495\n",
      "0.5\n",
      "0.503\n",
      "0.477\n",
      "Gen: 0 --- fitness: 0.526\n",
      "25\n",
      "Gen: 50 --- fitness: 0.594\n",
      "25\n",
      "Gen: 100 --- fitness: 0.625\n",
      "25\n",
      "Gen: 150 --- fitness: 0.653\n",
      "25\n",
      "Gen: 200 --- fitness: 0.677\n",
      "25\n",
      "Gen: 250 --- fitness: 0.705\n",
      "25\n",
      "Gen: 300 --- fitness: 0.726\n",
      "25\n",
      "Gen: 350 --- fitness: 0.751\n",
      "25\n",
      "Gen: 400 --- fitness: 0.774\n",
      "25\n",
      "Gen: 450 --- fitness: 0.797\n",
      "25\n",
      "Gen: 500 --- fitness: 0.817\n",
      "25\n",
      "Gen: 550 --- fitness: 0.835\n",
      "25\n",
      "Gen: 600 --- fitness: 0.851\n",
      "25\n",
      "Gen: 650 --- fitness: 0.866\n",
      "25\n",
      "Gen: 700 --- fitness: 0.881\n",
      "25\n",
      "Gen: 750 --- fitness: 0.894\n",
      "25\n",
      "Gen: 800 --- fitness: 0.903\n",
      "25\n",
      "Gen: 850 --- fitness: 0.919\n",
      "25\n",
      "Gen: 900 --- fitness: 0.93\n",
      "25\n",
      "Gen: 950 --- fitness: 0.942\n",
      "25\n",
      "Gen: 1000 --- fitness: 0.951\n",
      "25\n",
      "Gen: 1050 --- fitness: 0.957\n",
      "25\n"
     ]
    }
   ],
   "source": [
    "fitness = lab9_lib.make_problem(1)\n",
    "population = generate_population(fitness, size = POPULATION_SIZE)\n",
    "cache = {tuple(ind.genotype): ind.fitness for ind in population} # memo object to avoid recomputing the fitness\n",
    "best_fitness = 0.0\n",
    "\n",
    "for generation in range(10_000):\n",
    "    offspring = list()\n",
    "    for counter in range(OFFSPRING_SIZE):\n",
    "        if random() < MUTATION_PROBABILITY:  # self-adapt mutation probability\n",
    "            # mutation  # add more clever mutations\n",
    "            p = select_parent(population)\n",
    "            o = mutate(p)\n",
    "        else:\n",
    "            # xover # add more xovers\n",
    "            p1 = select_parent(population)\n",
    "            p2 = select_parent(population)\n",
    "            # o = one_cut_xover(p1, p2)\n",
    "            o = uniform_xover(p1, p2)\n",
    "        offspring.append(o)\n",
    "\n",
    "    for i in offspring:\n",
    "        tmp = tuple(i.genotype)\n",
    "        if tmp in cache:\n",
    "            i.fitness = cache[tmp]\n",
    "        else:\n",
    "            i.fitness = fitness(i.genotype)\n",
    "    population.extend(offspring)\n",
    "    population.sort(key=lambda x: x.fitness, reverse=True)\n",
    "    population = population[:POPULATION_SIZE]\n",
    "    # every 10 generations test improvements\n",
    "    if generation % 20 == 0:\n",
    "        curr_best_fitness = population[0].fitness\n",
    "        if abs(best_fitness - curr_best_fitness) < ACCEPTANCE:\n",
    "            break\n",
    "        best_fitness = max(best_fitness, curr_best_fitness)\n",
    "    if generation % 50 == 0:\n",
    "        print(f'Gen: {generation} --- fitness: {population[0].fitness}')\n",
    "        print(f'{len(population)}')\n",
    "        # print(\"-------------- Fitness ---------------\")\n",
    "        # for el in population:\n",
    "        #     print(f'{el.fitness} ---- {sum(el.genotype)}')\n",
    "        # print(\"\\n\\n\")"
   ],
   "metadata": {
    "collapsed": false
   }
  },
  {
   "cell_type": "code",
   "execution_count": 138,
   "outputs": [
    {
     "name": "stdout",
     "output_type": "stream",
     "text": [
      "fitness Calls: 10634\n",
      "0.957\n",
      "95.70%\n"
     ]
    }
   ],
   "source": [
    "print(f\"fitness Calls: {fitness.calls}\")\n",
    "best = population[0]\n",
    "print(fitness(list(best.genotype)))\n",
    "print(f'{fitness(list(best.genotype)):.2%}')"
   ],
   "metadata": {
    "collapsed": false
   }
  },
  {
   "cell_type": "markdown",
   "source": [
    "# 2 - Problem"
   ],
   "metadata": {
    "collapsed": false
   }
  },
  {
   "cell_type": "code",
   "execution_count": 161,
   "outputs": [],
   "source": [
    "POPULATION_SIZE = 30\n",
    "OFFSPRING_SIZE = 20\n",
    "TOURNAMENT_SIZE = 5\n",
    "MUTATION_PROBABILITY = .70\n",
    "INDIVIDUAL_SIZE = 1000\n",
    "ACCEPTANCE = 0.001"
   ],
   "metadata": {
    "collapsed": false
   }
  },
  {
   "cell_type": "code",
   "execution_count": 162,
   "outputs": [
    {
     "name": "stdout",
     "output_type": "stream",
     "text": [
      "0.2206\n",
      "0.2144\n",
      "0.22640000000000002\n",
      "0.2368\n",
      "0.2459\n",
      "0.2284\n",
      "0.2268\n",
      "0.2332\n",
      "0.2185\n",
      "0.2301\n",
      "0.2305\n",
      "0.2378\n",
      "0.2308\n",
      "0.21430000000000002\n",
      "0.22290000000000001\n",
      "0.2246\n",
      "0.22490000000000002\n",
      "0.2238\n",
      "0.21969999999999998\n",
      "0.24130000000000001\n",
      "0.2384\n",
      "0.22469999999999998\n",
      "0.22790000000000002\n",
      "0.2324\n",
      "0.2333\n",
      "0.224\n",
      "0.2352\n",
      "0.2226\n",
      "0.2324\n",
      "0.226\n",
      "Gen: 0 --- fitness: 0.518\n",
      "30\n",
      "Gen: 50 --- fitness: 0.554\n",
      "30\n",
      "Gen: 100 --- fitness: 0.574\n",
      "30\n",
      "Gen: 150 --- fitness: 0.6\n",
      "30\n",
      "Gen: 200 --- fitness: 0.63\n",
      "30\n",
      "Gen: 250 --- fitness: 0.658\n",
      "30\n",
      "Gen: 300 --- fitness: 0.68\n",
      "30\n",
      "Gen: 350 --- fitness: 0.704\n",
      "30\n",
      "Gen: 400 --- fitness: 0.724\n",
      "30\n",
      "Gen: 450 --- fitness: 0.748\n",
      "30\n",
      "Gen: 500 --- fitness: 0.766\n",
      "30\n",
      "Gen: 550 --- fitness: 0.784\n",
      "30\n",
      "Gen: 600 --- fitness: 0.798\n",
      "30\n",
      "Gen: 650 --- fitness: 0.814\n",
      "30\n",
      "Gen: 700 --- fitness: 0.826\n",
      "30\n",
      "Gen: 750 --- fitness: 0.842\n",
      "30\n",
      "Gen: 800 --- fitness: 0.854\n",
      "30\n",
      "Gen: 850 --- fitness: 0.862\n",
      "30\n",
      "Gen: 900 --- fitness: 0.876\n",
      "30\n",
      "Gen: 950 --- fitness: 0.886\n",
      "30\n",
      "Gen: 1000 --- fitness: 0.892\n",
      "30\n",
      "Gen: 1050 --- fitness: 0.906\n",
      "30\n",
      "Gen: 1100 --- fitness: 0.912\n",
      "30\n"
     ]
    }
   ],
   "source": [
    "fitness = lab9_lib.make_problem(2)\n",
    "population = generate_population(fitness, size = POPULATION_SIZE)\n",
    "cache = {tuple(ind.genotype): ind.fitness for ind in population} # memo object to avoid recomputing the fitness\n",
    "best_fitness = 0.0\n",
    "\n",
    "for generation in range(100_000):\n",
    "    offspring = list()\n",
    "    for counter in range(OFFSPRING_SIZE):\n",
    "            # xover # add more xovers\n",
    "            p1 = select_parent(population)\n",
    "            p2 = select_parent(population)\n",
    "            # o = one_cut_xover(p1, p2)\n",
    "            o1 = mutate(p1)\n",
    "            o2 = mutate(p2)\n",
    "            o = uniform_xover(o1, o2)\n",
    "            offspring.append(o)\n",
    "\n",
    "    for i in offspring:\n",
    "        tmp = tuple(i.genotype)\n",
    "        if tmp in cache:\n",
    "            i.fitness = cache[tmp]\n",
    "        else:\n",
    "            i.fitness = fitness(i.genotype)\n",
    "    population.extend(offspring)\n",
    "    population.sort(key=lambda x: x.fitness, reverse=True)\n",
    "    population = population[:POPULATION_SIZE]\n",
    "    # every 10 generations test improvements\n",
    "    if generation % 20 == 0:\n",
    "        curr_best_fitness = population[0].fitness\n",
    "        if abs(best_fitness - curr_best_fitness) < ACCEPTANCE:\n",
    "            break\n",
    "        best_fitness = max(best_fitness, curr_best_fitness)\n",
    "    if generation % 50 == 0:\n",
    "        print(f'Gen: {generation} --- fitness: {population[0].fitness}')\n",
    "        print(f'{len(population)}')\n",
    "        # print(\"-------------- Fitness ---------------\")\n",
    "        # for el in population:\n",
    "        #     print(f'{el.fitness} ---- {sum(el.genotype)}')\n",
    "        # print(\"\\n\\n\")"
   ],
   "metadata": {
    "collapsed": false
   }
  },
  {
   "cell_type": "code",
   "execution_count": 163,
   "outputs": [
    {
     "name": "stdout",
     "output_type": "stream",
     "text": [
      "fitness Calls: 22450\n",
      "0.912\n",
      "91.20%\n"
     ]
    }
   ],
   "source": [
    "print(f\"fitness Calls: {fitness.calls}\")\n",
    "best = population[0]\n",
    "print(fitness(list(best.genotype)))\n",
    "print(f'{fitness(list(best.genotype)):.2%}')"
   ],
   "metadata": {
    "collapsed": false
   }
  }
 ],
 "metadata": {
  "kernelspec": {
   "display_name": "ci-fLJ3OwGs-py3.12",
   "language": "python",
   "name": "python3"
  },
  "language_info": {
   "codemirror_mode": {
    "name": "ipython",
    "version": 3
   },
   "file_extension": ".py",
   "mimetype": "text/x-python",
   "name": "python",
   "nbconvert_exporter": "python",
   "pygments_lexer": "ipython3",
   "version": "3.12.0"
  }
 },
 "nbformat": 4,
 "nbformat_minor": 2
}
