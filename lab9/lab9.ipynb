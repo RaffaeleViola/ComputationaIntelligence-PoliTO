{
 "cells": [
  {
   "cell_type": "markdown",
   "metadata": {},
   "source": [
    "Copyright **`(c)`** 2023 Giovanni Squillero `<giovanni.squillero@polito.it>`  \n",
    "[`https://github.com/squillero/computational-intelligence`](https://github.com/squillero/computational-intelligence)  \n",
    "Free for personal or classroom use; see [`LICENSE.md`](https://github.com/squillero/computational-intelligence/blob/master/LICENSE.md) for details.  "
   ]
  },
  {
   "cell_type": "markdown",
   "metadata": {},
   "source": [
    "# LAB9\n",
    "\n",
    "Write a local-search algorithm (eg. an EA) able to solve the *Problem* instances 1, 2, 5, and 10 on a 1000-loci genomes, using a minimum number of fitness calls. That's all.\n",
    "\n",
    "### Deadlines:\n",
    "\n",
    "* Submission: Sunday, December 3 ([CET](https://www.timeanddate.com/time/zones/cet))\n",
    "* Reviews: Sunday, December 10 ([CET](https://www.timeanddate.com/time/zones/cet))\n",
    "\n",
    "Notes:\n",
    "\n",
    "* Reviews will be assigned  on Monday, December 4\n",
    "* You need to commit in order to be selected as a reviewer (ie. better to commit an empty work than not to commit)"
   ]
  },
  {
   "cell_type": "code",
   "execution_count": 2,
   "metadata": {},
   "outputs": [],
   "source": [
    "from random import choices, choice, randint, random, shuffle\n",
    "from copy import copy\n",
    "from dataclasses import dataclass\n",
    "from tqdm import tqdm\n",
    "import numpy as np\n",
    "\n",
    "import lab9_lib"
   ]
  },
  {
   "cell_type": "code",
   "execution_count": 57,
   "metadata": {},
   "outputs": [
    {
     "name": "stdout",
     "output_type": "stream",
     "text": [
      "0.5\n"
     ]
    }
   ],
   "source": [
    "fitness = lab9_lib.make_problem(2)\n",
    "some = [0] * 1000\n",
    "for i in range(1, 1000, 2):\n",
    "    some[i] = 1\n",
    "print(fitness(some))\n",
    "# for n in range(10):\n",
    "#     ind = choices([0, 1], k=1000)\n",
    "#     print(f\"{''.join(str(g) for g in ind)}: {fitness(ind):.2%}\")\n",
    "# fitnesses = sorted((some[s :: 2] for s in range(2)), reverse=True)\n",
    "# print(fitnesses)\n",
    "# print(fitness.calls)"
   ]
  },
  {
   "cell_type": "code",
   "execution_count": 19,
   "outputs": [],
   "source": [
    "POPULATION_SIZE = 50\n",
    "OFFSPRING_SIZE = 20\n",
    "TOURNAMENT_SIZE = 2\n",
    "MUTATION_PROBABILITY = .20\n",
    "INDIVIDUAL_SIZE = 1000\n",
    "ACCEPTANCE = 0.0001"
   ],
   "metadata": {
    "collapsed": false
   }
  },
  {
   "cell_type": "code",
   "execution_count": 11,
   "outputs": [],
   "source": [
    "\n",
    "class Individual:\n",
    "    def __init__(self, fitness, genotype: np.ndarray):\n",
    "        self.fitness = fitness\n",
    "        self.genotype = genotype\n",
    "\n",
    "    @staticmethod\n",
    "    def generate(size = INDIVIDUAL_SIZE):\n",
    "        return Individual(fitness = None, genotype = np.random.choice(a = np.array([True, False]), size = size))\n",
    "\n",
    "def select_parent(pop):\n",
    "    pool = [choice(pop) for _ in range(TOURNAMENT_SIZE)]\n",
    "    champion = max(pool, key=lambda i: i.fitness)\n",
    "    return champion\n",
    "\n",
    "def mutate(ind: Individual) -> Individual:\n",
    "    offspring = Individual(None, ind.genotype.copy())\n",
    "    pos = randint(0, INDIVIDUAL_SIZE-1)\n",
    "    offspring.genotype[pos] = not offspring.genotype[pos]\n",
    "    return offspring\n",
    "\n",
    "def one_cut_xover(ind1: Individual, ind2: Individual) -> Individual:\n",
    "    cut_point = randint(0, INDIVIDUAL_SIZE-1)\n",
    "    offspring = Individual(fitness=None,\n",
    "                           genotype=np.concatenate( (ind1.genotype[:cut_point], ind2.genotype[cut_point:]) ))\n",
    "    assert offspring.genotype.shape[0] == INDIVIDUAL_SIZE\n",
    "    return offspring\n",
    "\n",
    "def uniform_xover(ind1: Individual, ind2: Individual) -> Individual:\n",
    "    mask1 = np.random.choice([True, False], size = INDIVIDUAL_SIZE)\n",
    "    mask2 = np.logical_not(mask1)\n",
    "    assert np.logical_or(mask1, mask2).sum() == INDIVIDUAL_SIZE\n",
    "    tmp1 = np.logical_and(ind1.genotype, mask1)\n",
    "    tmp2 = np.logical_and(ind2.genotype, mask2)\n",
    "    new_genotype = np.logical_or(tmp1, tmp2)\n",
    "    return Individual(None, new_genotype)\n",
    "\n",
    "def or_xover(ind1: Individual, ind2: Individual) -> Individual:\n",
    "    new_genotype = np.logical_or(ind1.genotype, ind2.genotype)\n",
    "    return Individual(None, new_genotype)"
   ],
   "metadata": {
    "collapsed": false
   }
  },
  {
   "cell_type": "code",
   "execution_count": 12,
   "outputs": [],
   "source": [
    "def generate_population(fitness_func, size = POPULATION_SIZE):\n",
    "    population = [ Individual.generate() for _ in range(size)]\n",
    "    for ind in population:\n",
    "        ind.fitness = fitness_func(ind.genotype)\n",
    "        # print(ind.fitness)\n",
    "    return population"
   ],
   "metadata": {
    "collapsed": false
   }
  },
  {
   "cell_type": "markdown",
   "source": [
    "# 1 - Problem"
   ],
   "metadata": {
    "collapsed": false
   }
  },
  {
   "cell_type": "code",
   "execution_count": 18,
   "outputs": [
    {
     "name": "stdout",
     "output_type": "stream",
     "text": [
      "Gen: 0 --- fitness: 0.2511\n",
      "Gen: 200 --- fitness: 0.4148\n",
      "Gen: 400 --- fitness: 0.4575\n",
      "Gen: 600 --- fitness: 0.4741\n",
      "Gen: 800 --- fitness: 0.483\n"
     ]
    }
   ],
   "source": [
    "fitness = lab9_lib.make_problem(2)\n",
    "population = generate_population(fitness, size = POPULATION_SIZE)\n",
    "cache = {tuple(ind.genotype): ind.fitness for ind in population} # memo object to avoid recomputing the fitness\n",
    "best_fitness = 0.0\n",
    "\n",
    "for generation in range(1000):\n",
    "    offspring = list()\n",
    "    for counter in range(OFFSPRING_SIZE):\n",
    "        if random() < MUTATION_PROBABILITY:  # self-adapt mutation probability\n",
    "            # mutation  # add more clever mutations\n",
    "            p = select_parent(population)\n",
    "            o = mutate(p)\n",
    "        else:\n",
    "            # xover # add more xovers\n",
    "            p1 = select_parent(population)\n",
    "            p2 = select_parent(population)\n",
    "            # o = one_cut_xover(p1, p2)\n",
    "            o = uniform_xover(p1, p2)\n",
    "        offspring.append(o)\n",
    "\n",
    "    for i in offspring:\n",
    "        tmp = tuple(i.genotype)\n",
    "        if tmp in cache:\n",
    "            i.fitness = cache[tmp]\n",
    "        else:\n",
    "            i.fitness = fitness(i.genotype)\n",
    "    population.extend(offspring)\n",
    "    population.sort(key=lambda x: x.fitness, reverse=True)\n",
    "    population = population[:POPULATION_SIZE]\n",
    "    # every 10 generations test improvements\n",
    "    if generation % 200 == 0:\n",
    "        curr_best_fitness = population[0].fitness\n",
    "        if abs(best_fitness - curr_best_fitness) < ACCEPTANCE:\n",
    "            break\n",
    "        best_fitness = max(best_fitness, curr_best_fitness)\n",
    "    if generation % 200 == 0:\n",
    "        print(f'Gen: {generation} --- fitness: {population[0].fitness}')"
   ],
   "metadata": {
    "collapsed": false
   }
  },
  {
   "cell_type": "code",
   "execution_count": 16,
   "outputs": [
    {
     "name": "stdout",
     "output_type": "stream",
     "text": [
      "fitness Calls: 1324\n",
      "0.53\n",
      "53.00%\n"
     ]
    }
   ],
   "source": [
    "print(f\"fitness Calls: {fitness.calls}\")\n",
    "best = population[0]\n",
    "print(fitness(list(best.genotype)))\n",
    "print(f'{fitness(list(best.genotype)):.2%}')"
   ],
   "metadata": {
    "collapsed": false
   }
  },
  {
   "cell_type": "markdown",
   "source": [
    "# 2 - Problem"
   ],
   "metadata": {
    "collapsed": false
   }
  },
  {
   "cell_type": "code",
   "execution_count": 20,
   "outputs": [],
   "source": [
    "POPULATION_SIZE = 50\n",
    "OFFSPRING_SIZE = 20\n",
    "TOURNAMENT_SIZE = 5\n",
    "INDIVIDUAL_SIZE = 1000\n",
    "ACCEPTANCE = 0.0001"
   ],
   "metadata": {
    "collapsed": false
   }
  },
  {
   "cell_type": "code",
   "execution_count": 23,
   "outputs": [
    {
     "name": "stdout",
     "output_type": "stream",
     "text": [
      "Gen: 0 --- fitness: 0.486\n",
      "50\n",
      "Gen: 50 --- fitness: 0.514\n",
      "50\n",
      "Gen: 100 --- fitness: 0.536\n",
      "50\n",
      "Gen: 150 --- fitness: 0.558\n",
      "50\n",
      "Gen: 200 --- fitness: 0.576\n",
      "50\n",
      "Gen: 250 --- fitness: 0.598\n",
      "50\n",
      "Gen: 300 --- fitness: 0.616\n",
      "50\n",
      "Gen: 350 --- fitness: 0.636\n",
      "50\n",
      "Gen: 400 --- fitness: 0.66\n",
      "50\n",
      "Gen: 450 --- fitness: 0.674\n",
      "50\n",
      "Gen: 500 --- fitness: 0.694\n",
      "50\n",
      "Gen: 550 --- fitness: 0.712\n",
      "50\n",
      "Gen: 600 --- fitness: 0.728\n",
      "50\n",
      "Gen: 650 --- fitness: 0.75\n",
      "50\n",
      "Gen: 700 --- fitness: 0.764\n",
      "50\n",
      "Gen: 750 --- fitness: 0.78\n",
      "50\n",
      "Gen: 800 --- fitness: 0.792\n",
      "50\n",
      "Gen: 850 --- fitness: 0.804\n",
      "50\n",
      "Gen: 900 --- fitness: 0.818\n",
      "50\n",
      "Gen: 950 --- fitness: 0.832\n",
      "50\n",
      "Gen: 1000 --- fitness: 0.844\n",
      "50\n",
      "Gen: 1050 --- fitness: 0.856\n",
      "50\n",
      "Gen: 1100 --- fitness: 0.86\n",
      "50\n",
      "Gen: 1150 --- fitness: 0.87\n",
      "50\n",
      "Gen: 1200 --- fitness: 0.88\n",
      "50\n",
      "Gen: 1250 --- fitness: 0.888\n",
      "50\n",
      "Gen: 1300 --- fitness: 0.896\n",
      "50\n",
      "Gen: 1350 --- fitness: 0.902\n",
      "50\n",
      "Gen: 1400 --- fitness: 0.91\n",
      "50\n",
      "Gen: 1450 --- fitness: 0.918\n",
      "50\n",
      "Gen: 1500 --- fitness: 0.926\n",
      "50\n",
      "Gen: 1550 --- fitness: 0.93\n",
      "50\n",
      "Gen: 1600 --- fitness: 0.934\n",
      "50\n",
      "Gen: 1650 --- fitness: 0.942\n",
      "50\n",
      "Gen: 1700 --- fitness: 0.946\n",
      "50\n",
      "Gen: 1750 --- fitness: 0.95\n",
      "50\n",
      "Gen: 1800 --- fitness: 0.952\n",
      "50\n",
      "Gen: 1850 --- fitness: 0.954\n",
      "50\n",
      "Gen: 1900 --- fitness: 0.956\n",
      "50\n",
      "Gen: 1950 --- fitness: 0.96\n",
      "50\n",
      "Gen: 2000 --- fitness: 0.966\n",
      "50\n",
      "Gen: 2050 --- fitness: 0.966\n",
      "50\n",
      "Gen: 2100 --- fitness: 0.966\n",
      "50\n",
      "Gen: 2150 --- fitness: 0.966\n",
      "50\n",
      "Generation: 2200\n"
     ]
    }
   ],
   "source": [
    "fitness = lab9_lib.make_problem(2)\n",
    "population = generate_population(fitness, size = POPULATION_SIZE)\n",
    "cache = {tuple(ind.genotype): ind.fitness for ind in population} # memo object to avoid recomputing the fitness\n",
    "best_fitness = 0.0\n",
    "generation = 0\n",
    "for generation in range(100_000):\n",
    "    offspring = list()\n",
    "    for counter in range(OFFSPRING_SIZE):\n",
    "            # xover # add more xovers\n",
    "            p1 = select_parent(population)\n",
    "            p2 = select_parent(population)\n",
    "            # o = one_cut_xover(p1, p2)\n",
    "            o1 = mutate(p1)\n",
    "            o2 = mutate(p2)\n",
    "            o = uniform_xover(o1, o2)\n",
    "            offspring.append(o)\n",
    "\n",
    "    for i in offspring:\n",
    "        tmp = tuple(i.genotype)\n",
    "        if tmp in cache:\n",
    "            i.fitness = cache[tmp]\n",
    "        else:\n",
    "            i.fitness = fitness(i.genotype)\n",
    "    population.extend(offspring)\n",
    "    population.sort(key=lambda x: x.fitness, reverse=True)\n",
    "    population = population[:POPULATION_SIZE]\n",
    "    # every 10 generations test improvements\n",
    "    if generation % 200 == 0:\n",
    "        curr_best_fitness = population[0].fitness\n",
    "        if abs(best_fitness - curr_best_fitness) < ACCEPTANCE:\n",
    "            break\n",
    "        best_fitness = max(best_fitness, curr_best_fitness)\n",
    "    if generation % 50 == 0:\n",
    "        print(f'Gen: {generation} --- fitness: {population[0].fitness}')\n",
    "        print(f'{len(population)}')\n",
    "print(f'Generation: {generation}')"
   ],
   "metadata": {
    "collapsed": false
   }
  },
  {
   "cell_type": "code",
   "execution_count": 24,
   "outputs": [
    {
     "name": "stdout",
     "output_type": "stream",
     "text": [
      "fitness Calls: 44037\n",
      "0.966\n",
      "96.60%\n"
     ]
    }
   ],
   "source": [
    "print(f\"fitness Calls: {fitness.calls}\")\n",
    "best = population[0]\n",
    "print(fitness(list(best.genotype)))\n",
    "print(f'{fitness(list(best.genotype)):.2%}')"
   ],
   "metadata": {
    "collapsed": false
   }
  },
  {
   "cell_type": "markdown",
   "source": [
    "# 5 - Problem"
   ],
   "metadata": {
    "collapsed": false
   }
  },
  {
   "cell_type": "code",
   "execution_count": 36,
   "outputs": [],
   "source": [
    "POPULATION_SIZE = 99\n",
    "OFFSPRING_SIZE = 30\n",
    "TOURNAMENT_SIZE = 3\n",
    "INDIVIDUAL_SIZE = 1000\n",
    "ACCEPTANCE = 0.0001\n",
    "NICHES = 3\n",
    "NICHES_SIZE = POPULATION_SIZE // NICHES\n",
    "MIGRANTS = 10\n",
    "RANDOM_EXPLORE = 3\n",
    "SURVIVALS = POPULATION_SIZE * 2 // 3\n",
    "EXINTS = POPULATION_SIZE - SURVIVALS"
   ],
   "metadata": {
    "collapsed": false
   }
  },
  {
   "cell_type": "code",
   "execution_count": 26,
   "outputs": [],
   "source": [
    "def create_niches(pop, n = 5):\n",
    "    shuffle(pop)\n",
    "    niches = [pop[i:i + len(pop)//n] for i in range(0, len(pop) + 1 - len(pop) // n, len(pop) // n)]\n",
    "    return niches"
   ],
   "metadata": {
    "collapsed": false
   }
  },
  {
   "cell_type": "code",
   "execution_count": 27,
   "outputs": [],
   "source": [
    "def generate_offspring(population, cache):\n",
    "    offspring = list()\n",
    "    for counter in range(OFFSPRING_SIZE):\n",
    "        # xover # add more xovers\n",
    "        p1 = select_parent(population)\n",
    "        p2 = select_parent(population)\n",
    "        # o = one_cut_xover(p1, p2)\n",
    "        o1 = mutate(p1)\n",
    "        o2 = mutate(p2)\n",
    "        o = uniform_xover(o1, o2)\n",
    "        offspring.append(o)\n",
    "    for i in offspring:\n",
    "        tmp = tuple(i.genotype)\n",
    "        if tmp in cache:\n",
    "            i.fitness = cache[tmp]\n",
    "        else:\n",
    "            i.fitness = fitness(i.genotype)\n",
    "    return offspring\n"
   ],
   "metadata": {
    "collapsed": false
   }
  },
  {
   "cell_type": "code",
   "execution_count": 38,
   "outputs": [
    {
     "name": "stdout",
     "output_type": "stream",
     "text": [
      "GENERATION: 0\n",
      "NICHES_0 --- fitness: 0.1054596\n",
      "NICHES_1 --- fitness: 0.20246899999999998\n",
      "NICHES_2 --- fitness: 0.20603\n",
      "GENERATION: 30\n",
      "NICHES_0 --- fitness: 0.32426\n",
      "NICHES_1 --- fitness: 0.32412\n",
      "NICHES_2 --- fitness: 0.44289999999999996\n",
      "GENERATION: 60\n",
      "NICHES_0 --- fitness: 0.52\n",
      "NICHES_1 --- fitness: 0.4447\n",
      "NICHES_2 --- fitness: 0.44480000000000003\n",
      "GENERATION: 90\n",
      "NICHES_0 --- fitness: 0.52\n",
      "NICHES_1 --- fitness: 0.52\n",
      "NICHES_2 --- fitness: 0.52\n",
      "GENERATION: 120\n",
      "NICHES_0 --- fitness: 0.52\n",
      "NICHES_1 --- fitness: 0.52\n",
      "NICHES_2 --- fitness: 0.52\n",
      "GENERATION: 150\n",
      "NICHES_0 --- fitness: 0.0943634\n",
      "NICHES_1 --- fitness: 0.52\n",
      "NICHES_2 --- fitness: 0.52\n",
      "GENERATION: 180\n",
      "NICHES_0 --- fitness: 0.52\n",
      "NICHES_1 --- fitness: 0.52\n",
      "NICHES_2 --- fitness: 0.52\n",
      "GENERATION: 210\n",
      "NICHES_0 --- fitness: 0.52\n",
      "NICHES_1 --- fitness: 0.52\n",
      "NICHES_2 --- fitness: 0.52\n",
      "GENERATION: 240\n",
      "NICHES_0 --- fitness: 0.52\n",
      "NICHES_1 --- fitness: 0.52\n",
      "NICHES_2 --- fitness: 0.52\n",
      "GENERATION: 270\n",
      "NICHES_0 --- fitness: 0.52\n",
      "NICHES_1 --- fitness: 0.52\n",
      "NICHES_2 --- fitness: 0.52\n",
      "GENERATION: 300\n",
      "NICHES_0 --- fitness: 0.0938301\n",
      "NICHES_1 --- fitness: 0.0927505\n",
      "NICHES_2 --- fitness: 0.52\n",
      "GENERATION: 330\n",
      "NICHES_0 --- fitness: 0.52\n",
      "NICHES_1 --- fitness: 0.52\n",
      "NICHES_2 --- fitness: 0.52\n",
      "GENERATION: 360\n",
      "NICHES_0 --- fitness: 0.52\n",
      "NICHES_1 --- fitness: 0.52\n",
      "NICHES_2 --- fitness: 0.52\n",
      "GENERATION: 390\n",
      "NICHES_0 --- fitness: 0.52\n",
      "NICHES_1 --- fitness: 0.52\n",
      "NICHES_2 --- fitness: 0.52\n",
      "GENERATION: 420\n",
      "NICHES_0 --- fitness: 0.52\n",
      "NICHES_1 --- fitness: 0.52\n",
      "NICHES_2 --- fitness: 0.52\n",
      "GENERATION: 450\n",
      "NICHES_0 --- fitness: 0.0997858\n",
      "NICHES_1 --- fitness: 0.0965249\n",
      "NICHES_2 --- fitness: 0.52\n",
      "GENERATION: 480\n",
      "NICHES_0 --- fitness: 0.52\n",
      "NICHES_1 --- fitness: 0.52\n",
      "NICHES_2 --- fitness: 0.52\n",
      "GENERATION: 510\n",
      "NICHES_0 --- fitness: 0.52\n",
      "NICHES_1 --- fitness: 0.52\n",
      "NICHES_2 --- fitness: 0.52\n",
      "GENERATION: 540\n",
      "NICHES_0 --- fitness: 0.52\n",
      "NICHES_1 --- fitness: 0.52\n",
      "NICHES_2 --- fitness: 0.52\n",
      "GENERATION: 570\n",
      "NICHES_0 --- fitness: 0.52\n",
      "NICHES_1 --- fitness: 0.52\n",
      "NICHES_2 --- fitness: 0.52\n",
      "GENERATION: 600\n",
      "NICHES_0 --- fitness: 0.094806\n",
      "NICHES_1 --- fitness: 0.52\n",
      "NICHES_2 --- fitness: 0.52\n",
      "GENERATION: 630\n",
      "NICHES_0 --- fitness: 0.52\n",
      "NICHES_1 --- fitness: 0.52\n",
      "NICHES_2 --- fitness: 0.52\n",
      "GENERATION: 660\n",
      "NICHES_0 --- fitness: 0.52\n",
      "NICHES_1 --- fitness: 0.52\n",
      "NICHES_2 --- fitness: 0.52\n",
      "GENERATION: 690\n",
      "NICHES_0 --- fitness: 0.52\n",
      "NICHES_1 --- fitness: 0.52\n",
      "NICHES_2 --- fitness: 0.52\n",
      "GENERATION: 720\n",
      "NICHES_0 --- fitness: 0.52\n",
      "NICHES_1 --- fitness: 0.52\n",
      "NICHES_2 --- fitness: 0.52\n",
      "GENERATION: 750\n",
      "NICHES_0 --- fitness: 0.52\n",
      "NICHES_1 --- fitness: 0.52\n",
      "NICHES_2 --- fitness: 0.52\n",
      "GENERATION: 780\n",
      "NICHES_0 --- fitness: 0.52\n",
      "NICHES_1 --- fitness: 0.52\n",
      "NICHES_2 --- fitness: 0.52\n",
      "GENERATION: 810\n",
      "NICHES_0 --- fitness: 0.52\n",
      "NICHES_1 --- fitness: 0.52\n",
      "NICHES_2 --- fitness: 0.52\n",
      "GENERATION: 840\n",
      "NICHES_0 --- fitness: 0.52\n",
      "NICHES_1 --- fitness: 0.52\n",
      "NICHES_2 --- fitness: 0.52\n",
      "GENERATION: 870\n",
      "NICHES_0 --- fitness: 0.52\n",
      "NICHES_1 --- fitness: 0.52\n",
      "NICHES_2 --- fitness: 0.52\n",
      "GENERATION: 900\n",
      "NICHES_0 --- fitness: 0.52\n",
      "NICHES_1 --- fitness: 0.52\n",
      "NICHES_2 --- fitness: 0.0979272\n",
      "GENERATION: 930\n",
      "NICHES_0 --- fitness: 0.52\n",
      "NICHES_1 --- fitness: 0.52\n",
      "NICHES_2 --- fitness: 0.52\n",
      "GENERATION: 960\n",
      "NICHES_0 --- fitness: 0.52\n",
      "NICHES_1 --- fitness: 0.52\n",
      "NICHES_2 --- fitness: 0.52\n",
      "GENERATION: 990\n",
      "NICHES_0 --- fitness: 0.52\n",
      "NICHES_1 --- fitness: 0.52\n",
      "NICHES_2 --- fitness: 0.52\n"
     ]
    }
   ],
   "source": [
    "fitness = lab9_lib.make_problem(5)\n",
    "population = generate_population(fitness, size = POPULATION_SIZE)\n",
    "niches = create_niches(population, n = NICHES)\n",
    "cache = {tuple(ind.genotype): ind.fitness for ind in population} # memo object to avoid recomputing the fitness\n",
    "best_fitness = 0.0\n",
    "\n",
    "for generation in range(1000):\n",
    "    # evolution in every niche\n",
    "    for i in range(NICHES):\n",
    "        offspring = generate_offspring(niches[i], cache)\n",
    "        niches[i].extend(offspring)\n",
    "        niches[i].sort(key=lambda x: x.fitness, reverse=True)\n",
    "        niches[i] = niches[i][:NICHES_SIZE]\n",
    "    # Periodically add random variability to favore exploration\n",
    "    if generation % 20:\n",
    "        for i in range(NICHES):\n",
    "            num_mutations = choice(list(range(INDIVIDUAL_SIZE)))\n",
    "            for ind in range(NICHES_SIZE - 1,NICHES_SIZE - 1 - RANDOM_EXPLORE, -1): # low fitness RANDOM EXPLORE ELEMENTS\n",
    "                for _ in range(num_mutations):\n",
    "                    niches[i][ind] = mutate(niches[i][ind])\n",
    "                niches[i][ind].fitness = fitness(niches[i][ind].genotype)\n",
    "    if generation % 50 == 0:\n",
    "        curr_best_fitness = max([niche[0].fitness for niche in niches])\n",
    "        if abs(best_fitness - curr_best_fitness) < ACCEPTANCE:\n",
    "            # extinction\n",
    "            whole_population = []\n",
    "            for niche in niches:\n",
    "                whole_population.extend(niche)\n",
    "            whole_population.sort(key=lambda x: x.fitness, reverse=True)\n",
    "            whole_population = whole_population[:SURVIVALS]\n",
    "            new_ind = generate_population(fitness, size=EXINTS)\n",
    "            whole_population.extend(new_ind)\n",
    "            niches = create_niches(whole_population, n = NICHES)\n",
    "        best_fitness = max(best_fitness, curr_best_fitness)\n",
    "    # Migration\n",
    "    if generation % 30 == 0:\n",
    "        niches_indexes = set(range(NICHES))\n",
    "        for _ in range(MIGRANTS):\n",
    "            niche1 = choice(list(niches_indexes))\n",
    "            niches_indexes.remove(niche1)\n",
    "            niche2 = choice(list(niches_indexes))\n",
    "            niches_indexes.add(niche1)\n",
    "            to_swap = choices(list(range(NICHES_SIZE)), k = 2)\n",
    "            niches[niche1][to_swap[0]], niches[niche2][to_swap[1]] = niches[niche2][to_swap[1]], niches[niche1][to_swap[0]]\n",
    "        print(f\"GENERATION: {generation}\")\n",
    "        for i in range(NICHES):\n",
    "            print(f\"NICHES_{i} --- fitness: {niches[i][0].fitness}\")"
   ],
   "metadata": {
    "collapsed": false
   }
  },
  {
   "cell_type": "code",
   "execution_count": 39,
   "outputs": [
    {
     "name": "stdout",
     "output_type": "stream",
     "text": [
      "fitness Calls: 99243\n",
      "52.00%\n"
     ]
    }
   ],
   "source": [
    "print(f\"fitness Calls: {fitness.calls}\")\n",
    "curr_best_fitness = max([niche[0].fitness for niche in niches])\n",
    "print(f'{curr_best_fitness:.2%}')"
   ],
   "metadata": {
    "collapsed": false
   }
  },
  {
   "cell_type": "markdown",
   "source": [
    "# Strange Approach"
   ],
   "metadata": {
    "collapsed": false
   }
  },
  {
   "cell_type": "code",
   "execution_count": 180,
   "outputs": [],
   "source": [
    "POPULATION_SIZE = 50\n",
    "OFFSPRING_SIZE = 70\n",
    "TOURNAMENT_SIZE = 3\n",
    "INDIVIDUAL_SIZE = 1000\n",
    "ACCEPTANCE = 0.001\n",
    "NICHES = 5\n",
    "NICHES_SIZE = POPULATION_SIZE // NICHES\n",
    "MIGRANTS = 10\n",
    "RANDOM_EXPLORE = 3\n",
    "SURVIVALS = POPULATION_SIZE * 2 // 3\n",
    "EXINTS = POPULATION_SIZE - SURVIVALS"
   ],
   "metadata": {
    "collapsed": false
   }
  },
  {
   "cell_type": "code",
   "execution_count": 169,
   "outputs": [],
   "source": [
    "class Individual:\n",
    "    def __init__(self, fitness, genotype: np.ndarray):\n",
    "        self.fitness = fitness\n",
    "        self.genotype = genotype\n",
    "\n",
    "    @staticmethod\n",
    "    def generate(size = INDIVIDUAL_SIZE, density = 0.50):\n",
    "        return Individual(fitness = None, genotype = np.random.choice(a = np.array([True, False]), size = size, p = np.array([density, 1.0 - density])))\n",
    "\n",
    "def select_parent(pop):\n",
    "    pool = [choice(pop) for _ in range(TOURNAMENT_SIZE)]\n",
    "    champion = max(pool, key=lambda i: i.fitness)\n",
    "    return champion\n",
    "\n",
    "def mutate(ind: Individual,interval: tuple) -> Individual:\n",
    "    offspring = Individual(None, ind.genotype.copy())\n",
    "    pos = randint(interval[0], interval[1])\n",
    "    offspring.genotype[pos] = not offspring.genotype[pos]\n",
    "    return offspring\n",
    "\n",
    "def one_cut_xover(ind1: Individual, ind2: Individual) -> Individual:\n",
    "    cut_point = randint(0, INDIVIDUAL_SIZE-1)\n",
    "    offspring = Individual(fitness=None,\n",
    "                           genotype=np.concatenate( (ind1.genotype[:cut_point], ind2.genotype[cut_point:]) ))\n",
    "    assert offspring.genotype.shape[0] == INDIVIDUAL_SIZE\n",
    "    return offspring\n",
    "\n",
    "def uniform_xover(ind1: Individual, ind2: Individual) -> Individual:\n",
    "    mask1 = np.random.choice([True, False], size = INDIVIDUAL_SIZE)\n",
    "    mask2 = np.logical_not(mask1)\n",
    "    assert np.logical_or(mask1, mask2).sum() == INDIVIDUAL_SIZE\n",
    "    tmp1 = np.logical_and(ind1.genotype, mask1)\n",
    "    tmp2 = np.logical_and(ind2.genotype, mask2)\n",
    "    new_genotype = np.logical_or(tmp1, tmp2)\n",
    "    return Individual(None, new_genotype)\n",
    "\n",
    "def or_xover(ind1: Individual, ind2: Individual) -> Individual:\n",
    "    new_genotype = np.logical_or(ind1.genotype, ind2.genotype)\n",
    "    return Individual(None, new_genotype)"
   ],
   "metadata": {
    "collapsed": false
   }
  },
  {
   "cell_type": "code",
   "execution_count": 97,
   "outputs": [],
   "source": [],
   "metadata": {
    "collapsed": false
   }
  },
  {
   "cell_type": "code",
   "execution_count": 170,
   "outputs": [],
   "source": [
    "def generate_offspring(population, interval, cache):\n",
    "    offspring = list()\n",
    "    for counter in range(OFFSPRING_SIZE):\n",
    "        # xover # add more xovers\n",
    "        p1 = select_parent(population)\n",
    "        p2 = select_parent(population)\n",
    "        # o = one_cut_xover(p1, p2)\n",
    "        o1 = mutate(p1, interval)\n",
    "        o2 = mutate(p2, interval)\n",
    "        o = uniform_xover(o1, o2)\n",
    "        offspring.append(o)\n",
    "    for i in offspring:\n",
    "        tmp = tuple(i.genotype)\n",
    "        if tmp in cache:\n",
    "            i.fitness = cache[tmp]\n",
    "        else:\n",
    "            i.fitness = fitness(i.genotype)\n",
    "    return offspring\n"
   ],
   "metadata": {
    "collapsed": false
   }
  },
  {
   "cell_type": "code",
   "execution_count": 192,
   "outputs": [],
   "source": [
    "def generate_population(fitness_func, size = POPULATION_SIZE, density = 0.50):\n",
    "    population = [ Individual.generate(density=density) for _ in range(size)]\n",
    "    for ind in population:\n",
    "        ind.fitness = fitness_func(ind.genotype)\n",
    "        # print(ind.fitness)\n",
    "    return population"
   ],
   "metadata": {
    "collapsed": false
   }
  },
  {
   "cell_type": "code",
   "execution_count": null,
   "outputs": [],
   "source": [
    "DENSITY = 0.50\n",
    "fitness = lab9_lib.make_problem(5)\n",
    "population = generate_population(fitness, size = POPULATION_SIZE, density= DENSITY)\n",
    "niches = create_niches(population, n = NICHES)\n",
    "cache = {tuple(ind.genotype): ind.fitness for ind in population} # memo object to avoid recomputing the fitness\n",
    "best_fitness = 0.0\n",
    "stats = [0, 0]\n",
    "for generation in range(1000):\n",
    "    # evolution in every niche\n",
    "    for i in range(NICHES):\n",
    "        offspring = generate_offspring(niches[i], (i * NICHES_SIZE, i * NICHES_SIZE + NICHES_SIZE), cache)\n",
    "        offspring.sort(key=lambda x: x.fitness, reverse=True)\n",
    "        stats[0] = sum([a.fitness > b.fitness for a, b in zip(offspring[:NICHES_SIZE], niches[i])])\n",
    "        stats[1] += NICHES_SIZE\n",
    "        niches[i].extend(offspring)\n",
    "        niches[i].sort(key=lambda x: x.fitness, reverse=True)\n",
    "        niches[i] = niches[i][:NICHES_SIZE]\n",
    "\n",
    "    if generation % 50 == 0:\n",
    "        curr_best_fitness = max([niche[0].fitness for niche in niches])\n",
    "        if abs(best_fitness - curr_best_fitness) < ACCEPTANCE:\n",
    "            # EXTINCTION\n",
    "            whole_population = []\n",
    "            for niche in niches:\n",
    "                whole_population.extend(niche)\n",
    "            whole_population.sort(key=lambda x: x.fitness, reverse=True)\n",
    "            whole_population = whole_population[:SURVIVALS]\n",
    "            new_ind = generate_population(fitness, size=EXINTS, density=DENSITY)\n",
    "            whole_population.extend(new_ind)\n",
    "            niches = create_niches(whole_population, n = NICHES)\n",
    "            if stats[0] / stats[1] < 1 / 5:\n",
    "                DENSITY = min(1.0, DENSITY * 1.05)\n",
    "            else:\n",
    "                DENSITY = max(0, DENSITY / 1.05)\n",
    "            print(DENSITY)\n",
    "            stats = [0, 0]\n",
    "        best_fitness = max(best_fitness, curr_best_fitness)\n",
    "    # Migration\n",
    "    if generation % 20 == 0:\n",
    "        niches_indexes = set(range(NICHES))\n",
    "        for _ in range(MIGRANTS):\n",
    "            niche1 = choice(list(niches_indexes))\n",
    "            niches_indexes.remove(niche1)\n",
    "            niche2 = choice(list(niches_indexes))\n",
    "            niches_indexes.add(niche1)\n",
    "            to_swap = choices(list(range(NICHES_SIZE)), k = 2)\n",
    "            niches[niche1][to_swap[0]], niches[niche2][to_swap[1]] = niches[niche2][to_swap[1]], niches[niche1][to_swap[0]]\n",
    "        print(f\"GENERATION: {generation}\")\n",
    "        for i in range(NICHES):\n",
    "            print(f\"NICHES_{i} --- fitness: {niches[i][0].fitness}\")"
   ],
   "metadata": {
    "collapsed": false,
    "pycharm": {
     "is_executing": true
    }
   }
  },
  {
   "cell_type": "code",
   "execution_count": 196,
   "outputs": [
    {
     "name": "stdout",
     "output_type": "stream",
     "text": [
      "350269\n"
     ]
    }
   ],
   "source": [
    "print(fitness.calls)"
   ],
   "metadata": {
    "collapsed": false
   }
  }
 ],
 "metadata": {
  "kernelspec": {
   "display_name": "ci-fLJ3OwGs-py3.12",
   "language": "python",
   "name": "python3"
  },
  "language_info": {
   "codemirror_mode": {
    "name": "ipython",
    "version": 3
   },
   "file_extension": ".py",
   "mimetype": "text/x-python",
   "name": "python",
   "nbconvert_exporter": "python",
   "pygments_lexer": "ipython3",
   "version": "3.12.0"
  }
 },
 "nbformat": 4,
 "nbformat_minor": 2
}
