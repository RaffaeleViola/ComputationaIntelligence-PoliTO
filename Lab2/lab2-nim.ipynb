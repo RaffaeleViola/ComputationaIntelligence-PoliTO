{
 "cells": [
  {
   "cell_type": "markdown",
   "metadata": {},
   "source": [
    "Copyright **`(c)`** 2022 Giovanni Squillero `<squillero@polito.it>`  \n",
    "[`https://github.com/squillero/computational-intelligence`](https://github.com/squillero/computational-intelligence)  \n",
    "Free for personal or classroom use; see [`LICENSE.md`](https://github.com/squillero/computational-intelligence/blob/master/LICENSE.md) for details.  \n"
   ]
  },
  {
   "cell_type": "markdown",
   "source": [
    "# Lab 3: ES\n",
    "\n",
    "## Task\n",
    "\n",
    "Write agents able to play [*Nim*](https://en.wikipedia.org/wiki/Nim), with an arbitrary number of rows and an upper bound $k$ on the number of objects that can be removed in a turn (a.k.a., *subtraction game*).\n",
    "\n",
    "The goal of the game is to **avoid** taking the last object.\n",
    "\n",
    "* Task2.1: An agent using fixed rules based on *nim-sum* (i.e., an *expert system*)\n",
    "* Task2.2: An agent using evolved rules using ES\n",
    "\n",
    "## Instructions\n",
    "\n",
    "* Create the directory `lab2` inside your personal course repository for the course \n",
    "* Put a `README.md` and your solution (all the files, code and auxiliary data if needed)\n",
    "\n",
    "## Notes\n",
    "\n",
    "* Working in group is not only allowed, but recommended (see: [Ubuntu](https://en.wikipedia.org/wiki/Ubuntu_philosophy) and [Cooperative Learning](https://files.eric.ed.gov/fulltext/EJ1096789.pdf)). Collaborations must be explicitly declared in the `README.md`.\n",
    "* [Yanking](https://www.emacswiki.org/emacs/KillingAndYanking) from the internet is allowed, but sources must be explicitly declared in the `README.md`.\n",
    "\n"
   ],
   "metadata": {
    "collapsed": false
   }
  },
  {
   "cell_type": "code",
   "execution_count": 10,
   "metadata": {},
   "outputs": [],
   "source": [
    "import logging\n",
    "from pprint import pprint, pformat\n",
    "from collections import namedtuple\n",
    "import random\n",
    "from copy import deepcopy\n",
    "from tqdm import tqdm\n"
   ]
  },
  {
   "cell_type": "markdown",
   "metadata": {},
   "source": [
    "## The *Nim* and *Nimply* classes"
   ]
  },
  {
   "cell_type": "code",
   "execution_count": 11,
   "metadata": {},
   "outputs": [],
   "source": [
    "Nimply = namedtuple(\"Nimply\", \"row, num_objects\")\n"
   ]
  },
  {
   "cell_type": "code",
   "execution_count": 12,
   "metadata": {},
   "outputs": [],
   "source": [
    "class Nim:\n",
    "    def __init__(self, num_rows: int, k: int = None) -> None:\n",
    "        self._rows = [i * 2 + 1 for i in range(num_rows)]\n",
    "        if k is None:\n",
    "            k = (num_rows - 1) * 2 + 1\n",
    "        self._k = k\n",
    "\n",
    "    def __bool__(self):\n",
    "        return sum(self._rows) > 0\n",
    "\n",
    "    def __str__(self):\n",
    "        return \"<\" + \" \".join(str(_) for _ in self._rows) + \">\"\n",
    "\n",
    "    @property\n",
    "    def rows(self) -> tuple:\n",
    "        return tuple(self._rows)\n",
    "\n",
    "    @property\n",
    "    def k(self) -> int:\n",
    "        return self._k\n",
    "\n",
    "    def nimming(self, ply: Nimply) -> None:\n",
    "        row, num_objects = ply\n",
    "        assert self._rows[row] >= num_objects\n",
    "        assert self._k is None or num_objects <= self._k\n",
    "        self._rows[row] -= num_objects\n"
   ]
  },
  {
   "cell_type": "markdown",
   "metadata": {},
   "source": [
    "## Strategies"
   ]
  },
  {
   "cell_type": "code",
   "execution_count": 13,
   "metadata": {},
   "outputs": [],
   "source": [
    "def pure_random(state: Nim) -> Nimply:\n",
    "    \"\"\"A completely random move\"\"\"\n",
    "    row = random.choice([r for r, c in enumerate(state.rows) if c > 0])\n",
    "    num_objects = random.randint(1, min(state.rows[row], state.k))\n",
    "    return Nimply(row, num_objects)\n"
   ]
  },
  {
   "cell_type": "code",
   "execution_count": 15,
   "metadata": {},
   "outputs": [],
   "source": [
    "def gabriele(state: Nim) -> Nimply:\n",
    "    \"\"\"Pick always the maximum possible number of the lowest row\"\"\"\n",
    "    possible_moves = [(r, o) for r, c in enumerate(state.rows) for o in range(1, min(state.k + 1, c + 1))]\n",
    "    return Nimply(*max(possible_moves, key=lambda m: (-m[0], m[1])))\n"
   ]
  },
  {
   "cell_type": "code",
   "execution_count": 16,
   "outputs": [],
   "source": [
    "def take_half_from_last_row(state: Nim) -> Nimply:\n",
    "    row = -1\n",
    "    for i in range(len(state.rows) -1, -1, -1):\n",
    "        if state.rows[i] > 0:\n",
    "            row = i\n",
    "            break\n",
    "    n_obj = min(state.k, state.rows[row] // 2) if state.rows[row] // 2 != 0 else min(state.k, state.rows[row])\n",
    "    return Nimply(row, n_obj)"
   ],
   "metadata": {
    "collapsed": false
   }
  },
  {
   "cell_type": "code",
   "execution_count": 17,
   "outputs": [],
   "source": [
    "def take_half_from_top(state: Nim) -> Nimply:\n",
    "    row = -1\n",
    "    for i in range(len(state.rows)):\n",
    "        if state.rows[i] > 0:\n",
    "            row = i\n",
    "            break\n",
    "    n_obj = min(state.k, state.rows[row] // 2) if state.rows[row] // 2 != 0 else min(state.k, state.rows[row])\n",
    "    return Nimply(row, n_obj)\n"
   ],
   "metadata": {
    "collapsed": false
   }
  },
  {
   "cell_type": "code",
   "execution_count": 19,
   "outputs": [],
   "source": [
    "def take_one(state: Nim) -> Nimply:\n",
    "    row = random.choice([r for r, c in enumerate(state.rows) if c > 0])\n",
    "    return Nimply(row, 1)"
   ],
   "metadata": {
    "collapsed": false
   }
  },
  {
   "cell_type": "code",
   "execution_count": 20,
   "outputs": [],
   "source": [
    "def take_even_odd(state: Nim) -> Nimply:\n",
    "    row = random.choice([r for r, c in enumerate(state.rows) if c > 0])\n",
    "    if row % 2 == 0:\n",
    "        n_obj = min(state.k, state.rows[row] // 2)\n",
    "    else:\n",
    "        n_obj = max(1, min(state.k, state.rows[row]))\n",
    "    return Nimply(row, n_obj)"
   ],
   "metadata": {
    "collapsed": false
   }
  },
  {
   "cell_type": "code",
   "execution_count": 21,
   "outputs": [],
   "source": [
    "def leave_one(state: Nim) -> Nimply:\n",
    "    row = random.choice([r for r, c in enumerate(state.rows) if c > 0])\n",
    "    c = state.rows[row]\n",
    "    n_obj = max(min(state.k, c -1), 1)\n",
    "    return Nimply(row, n_obj)\n"
   ],
   "metadata": {
    "collapsed": false
   }
  },
  {
   "cell_type": "code",
   "execution_count": 22,
   "metadata": {},
   "outputs": [],
   "source": [
    "def adaptive(state: Nim) -> Nimply:\n",
    "    \"\"\"A strategy that can adapt its parameters\"\"\"\n",
    "    genome = {\"love_small\": 0.5}\n"
   ]
  },
  {
   "cell_type": "code",
   "execution_count": 23,
   "metadata": {},
   "outputs": [],
   "source": [
    "import numpy as np\n",
    "\n",
    "\n",
    "def nim_sum(state: Nim) -> int:\n",
    "    tmp = np.array([tuple(int(x) for x in f\"{c:032b}\") for c in state.rows])\n",
    "    xor = tmp.sum(axis=0) % 2\n",
    "    return int(\"\".join(str(_) for _ in xor), base=2)\n",
    "\n",
    "\n",
    "def analize(raw: Nim) -> dict:\n",
    "    cooked = dict()\n",
    "    cooked[\"possible_moves\"] = dict()\n",
    "    for ply in (Nimply(r, o) for r, c in enumerate(raw.rows) for o in range(1, min(raw.k + 1, c + 1))):\n",
    "        tmp = deepcopy(raw)\n",
    "        tmp.nimming(ply)\n",
    "        cooked[\"possible_moves\"][ply] = nim_sum(tmp)\n",
    "    return cooked\n",
    "\n",
    "\n",
    "def optimal(state: Nim) -> Nimply:\n",
    "    analysis = analize(state)\n",
    "    logging.debug(f\"analysis:\\n{pformat(analysis)}\")\n",
    "    spicy_moves = [ply for ply, ns in analysis[\"possible_moves\"].items() if ns != 0]\n",
    "    if not spicy_moves:\n",
    "        spicy_moves = list(analysis[\"possible_moves\"].keys())\n",
    "    ply = random.choice(spicy_moves)\n",
    "    return ply\n"
   ]
  },
  {
   "cell_type": "markdown",
   "metadata": {},
   "source": [
    "## Oversimplified match"
   ]
  },
  {
   "cell_type": "code",
   "execution_count": 24,
   "metadata": {},
   "outputs": [],
   "source": [
    "def game(n_rows, k, strategy):\n",
    "    # logging.getLogger().setLevel(logging.INFO)\n",
    "\n",
    "    strategies = (strategy, optimal)\n",
    "\n",
    "    nim = Nim(n_rows, k)\n",
    "    # logging.info(f\"init : {nim}\")\n",
    "    player = 0\n",
    "    while nim:\n",
    "        ply = strategies[player](nim)\n",
    "        # logging.info(f\"ply: player {player} plays {ply}\")\n",
    "        nim.nimming(ply)\n",
    "        # logging.info(f\"status: {nim}\")\n",
    "        player = 1 - player\n",
    "    # logging.info(f\"status: Player {player} won!\")\n",
    "    return player\n"
   ]
  },
  {
   "cell_type": "code",
   "execution_count": 25,
   "metadata": {},
   "outputs": [],
   "source": [
    "def compare_strategies(strategies, n_rows, k):\n",
    "    NUM_GAMES = 1000\n",
    "    for name, s in strategies.items():\n",
    "        winners = [game(n_rows, k, s) for _ in range(NUM_GAMES)]\n",
    "        avg_1 = (sum(winners)) / (NUM_GAMES / 100)\n",
    "        print(f\"Optimal wins: {avg_1}% against {name}\")"
   ]
  },
  {
   "cell_type": "code",
   "execution_count": 88,
   "metadata": {},
   "outputs": [
    {
     "name": "stdout",
     "output_type": "stream",
     "text": [
      "Optimal wins: 10.1% against even_odd\n",
      "Optimal wins: 74.0% against half_last\n",
      "Optimal wins: 71.7% against one\n",
      "Optimal wins: 72.6% against half_top\n"
     ]
    }
   ],
   "source": [
    "compare_strategies({\"even_odd\": take_even_odd, \"half_last\": take_half_from_last_row, \"one\": take_one, \"half_top\": take_half_from_top}, 5, 3)"
   ]
  },
  {
   "cell_type": "code",
   "execution_count": 26,
   "outputs": [],
   "source": [
    "class Player:\n",
    "    def __init__(self, weights: tuple[float], strategies):\n",
    "        self.weights = weights\n",
    "        self.strategies = strategies\n",
    "\n",
    "    def get_strategy(self):\n",
    "        min_weight = min(self.weights)\n",
    "        if min_weight <= 0:\n",
    "            shifted_weights = [w - min_weight + 1.0 for w in self.weights]  # Adding 1 ensures non-zero weights\n",
    "        else:\n",
    "            shifted_weights = self.weights  # No need to shift if all weights are non-negative\n",
    "        return random.choices(self.strategies, weights=shifted_weights, k=1)[0]\n",
    "\n",
    "    def __str__(self):\n",
    "        w_to_s = [f'{w} ' for w in self.weights]\n",
    "        return ''.join(w_to_s)\n"
   ],
   "metadata": {
    "collapsed": false
   }
  },
  {
   "cell_type": "code",
   "execution_count": 27,
   "outputs": [],
   "source": [
    "rules = [take_one, take_even_odd, take_half_from_top, take_half_from_last_row, gabriele, pure_random]"
   ],
   "metadata": {
    "collapsed": false
   }
  },
  {
   "cell_type": "code",
   "execution_count": 28,
   "outputs": [],
   "source": [
    "def generate_population(size = 30):\n",
    "    pop = [Player(tuple([random.random() for _ in range(len(rules))]), rules) for _ in range(size)]\n",
    "    return pop"
   ],
   "metadata": {
    "collapsed": false
   }
  },
  {
   "cell_type": "code",
   "execution_count": 29,
   "outputs": [],
   "source": [
    "def offspring(parents, mutation, size = 210):\n",
    "    os = []\n",
    "    parent_subset = [random.choice(parents) for _ in range(size)]\n",
    "    for i in range(size):\n",
    "        weights = np.array(parent_subset[i].weights)\n",
    "        mutations = np.array([random.gauss(0, mutation) for _ in range(weights.shape[0])])\n",
    "        weights += mutations\n",
    "        new_player = Player(tuple(weights), rules)\n",
    "        os.append(new_player)\n",
    "    return os"
   ],
   "metadata": {
    "collapsed": false
   }
  },
  {
   "cell_type": "code",
   "execution_count": 30,
   "outputs": [],
   "source": [
    "def game_simulation(n_rows: int, k: int, Player_1: Player, Player_2: Player):\n",
    "    # logging.getLogger().setLevel(logging.INFO)\n",
    "    players = (Player_1, Player_2)\n",
    "    nim = Nim(n_rows, k)\n",
    "    # logging.info(f\"init : {nim}\")\n",
    "    player = 0\n",
    "    while nim:\n",
    "        ply = players[player].get_strategy()(nim)\n",
    "        # logging.info(f\"ply: player {player} plays {ply}\")\n",
    "        nim.nimming(ply)\n",
    "        # logging.info(f\"status: {nim}\")\n",
    "        player = 1 - player\n",
    "    # logging.info(f\"status: Player {player} won!\")\n",
    "    return player\n"
   ],
   "metadata": {
    "collapsed": false
   }
  },
  {
   "cell_type": "code",
   "execution_count": 31,
   "outputs": [],
   "source": [
    "NUM_GAMES = 25\n",
    "ROWS = 5\n",
    "K = 5\n",
    "\n",
    "optimal_player = Player(tuple([1.0]), [optimal])\n",
    "def fitness(individual: Player) -> float:\n",
    "    winners = [game_simulation(ROWS, K, individual, optimal_player) for _ in range(NUM_GAMES)]\n",
    "    return (NUM_GAMES - sum(winners)) / NUM_GAMES"
   ],
   "metadata": {
    "collapsed": false
   }
  },
  {
   "cell_type": "markdown",
   "source": [
    "## ( &mu;, &lambda; )-ES\n",
    "<p>Self Adaptive Strategy I<p>"
   ],
   "metadata": {
    "collapsed": false
   }
  },
  {
   "cell_type": "code",
   "execution_count": 32,
   "outputs": [],
   "source": [
    "mu = 10\n",
    "λ = 70 # 7 * mu rule\n",
    "σ = 0.01\n",
    "GENERATIONS = 500"
   ],
   "metadata": {
    "collapsed": false
   }
  },
  {
   "cell_type": "code",
   "execution_count": 33,
   "outputs": [],
   "source": [
    "def evaluate_offspring(offs: list[Player]) -> list[(Player, float)]:\n",
    "    return [(play, fitness(play)) for play in offs]"
   ],
   "metadata": {
    "collapsed": false
   }
  },
  {
   "cell_type": "code",
   "execution_count": null,
   "outputs": [],
   "source": [
    "pop = generate_population(size = mu)\n",
    "evals = evaluate_offspring(pop)\n",
    "evals.sort(key = lambda x: x[1], reverse = True)\n",
    "prev_evals = map(lambda  x: x[1], evals)\n",
    "for man in pop:\n",
    "    print(fitness(man), end=\" \")\n",
    "stats = [0,0]\n",
    "for step in tqdm(range(GENERATIONS)):\n",
    "    # generate offspring\n",
    "    off = offspring(pop, σ, size = λ)\n",
    "    #evaluate offspring\n",
    "    evals = evaluate_offspring(off)\n",
    "    # sort in decresing order by fitness value (games wins against optimal)\n",
    "    evals.sort(key = lambda x: x[1], reverse = True)\n",
    "    # retrieve new population\n",
    "    pop = [p for p, v in evals[:mu]]\n",
    "    # get only the fitness values in decresing order\n",
    "    curr_evals = map(lambda  x: x[1], evals[:mu])\n",
    "    # compute number of improvements related to the rank\n",
    "    succs = sum([1 for c, p in zip(curr_evals, prev_evals) if c > p])\n",
    "    stats[0] += succs\n",
    "    stats[1] += mu\n",
    "    prev_evals = curr_evals\n",
    "    if (step + 1) % 20 == 0: # every 20 steps adjust mutation\n",
    "        print(f\"Max_fitness: {evals[0][1]}\") # It's not totally deterministic, just to have an idea\n",
    "        if stats[0] / stats[1] < 1 / 5:\n",
    "            σ /= 1.1\n",
    "        elif stats[0] / stats[1] > 1 / 5:\n",
    "            σ *= 1.1\n",
    "        stats = [0, 0]"
   ],
   "metadata": {
    "collapsed": false,
    "pycharm": {
     "is_executing": true
    }
   }
  },
  {
   "cell_type": "code",
   "execution_count": 42,
   "outputs": [
    {
     "name": "stdout",
     "output_type": "stream",
     "text": [
      "Player_0\n",
      "weights: 0.8747547296753383 1.174081762774021 0.5637191911230309 0.6874056490574837 0.13658004993064574 0.07210579441188611 fitness: 0.32\n",
      "Player_1\n",
      "weights: 0.8986483868042027 1.1596811606090258 0.5711254375013113 0.688716283171604 0.14415686514616907 0.07236553069483193 fitness: 0.48\n",
      "Player_2\n",
      "weights: 0.8787514397816611 1.1772667474209966 0.5620133111260542 0.6976207351737103 0.14438583170262928 0.07251043671321984 fitness: 0.64\n",
      "Player_3\n",
      "weights: 0.8696481020087934 1.1853664589070303 0.5860150694060065 0.7008665893292456 0.14852250782686657 0.06456486419434918 fitness: 0.44\n",
      "Player_4\n",
      "weights: 0.8832967088400913 1.1795641526743654 0.5814677739090952 0.7135281356203919 0.15595055392425722 0.056620645151317234 fitness: 0.2\n",
      "Player_5\n",
      "weights: 0.8917591179935029 1.1874058844764541 0.6017936520859832 0.704996440913763 0.15613393341925183 0.07649012170316355 fitness: 0.48\n",
      "Player_6\n",
      "weights: 0.903109683895098 1.1721256561413615 0.5756139986623511 0.6938058106641718 0.14759821713910273 0.06881453738517258 fitness: 0.2\n",
      "Player_7\n",
      "weights: 0.8556268177213805 1.1877151026355197 0.5655278374504965 0.732518003462801 0.1645712072011332 0.05482199200912455 fitness: 0.4\n",
      "Player_8\n",
      "weights: 0.9001743756372248 1.1528519740808933 0.5725411132644755 0.6745475034549189 0.14854842429934273 0.06526487323480006 fitness: 0.4\n",
      "Player_9\n",
      "weights: 0.8775797353427789 1.1796925237943277 0.5831036691042476 0.6998726306601448 0.1468429722309467 0.062485570422355176 fitness: 0.32\n"
     ]
    }
   ],
   "source": [
    "for i, man in enumerate(pop):\n",
    "    print(f\"Player_{i}\")\n",
    "    print(f\"weights: {man}\", end=\"\")\n",
    "    print(f\"fitness: {fitness(man)}\")\n",
    "\n",
    "with open(\"comma_weights.txt\", \"w\") as f:\n",
    "    for man in pop:\n",
    "        f.write(f\"{man}\\n\")"
   ],
   "metadata": {
    "collapsed": false
   }
  },
  {
   "cell_type": "code",
   "execution_count": 43,
   "outputs": [
    {
     "name": "stderr",
     "output_type": "stream",
     "text": [
      "100%|██████████| 10000/10000 [00:23<00:00, 421.93it/s]"
     ]
    },
    {
     "name": "stdout",
     "output_type": "stream",
     "text": [
      "0.4145\n"
     ]
    },
    {
     "name": "stderr",
     "output_type": "stream",
     "text": [
      "\n"
     ]
    }
   ],
   "source": [
    "games = 10_000\n",
    "best_evolved = pop[0]\n",
    "winners = [game_simulation(ROWS, K, best_evolved, optimal_player) for _ in tqdm(range(games))]\n",
    "print((games - sum(winners)) / games)"
   ],
   "metadata": {
    "collapsed": false
   }
  },
  {
   "cell_type": "markdown",
   "source": [
    "## ( &mu; + &lambda; )-ES\n",
    "<p>Self Adaptive Strategy II<p>"
   ],
   "metadata": {
    "collapsed": false
   }
  },
  {
   "cell_type": "code",
   "execution_count": 41,
   "outputs": [],
   "source": [
    "mu = 10\n",
    "λ = 70 # 7 * mu rule\n",
    "σ = [0.01] * mu\n",
    "GENERATIONS = 500"
   ],
   "metadata": {
    "collapsed": false
   }
  },
  {
   "cell_type": "code",
   "execution_count": 43,
   "outputs": [],
   "source": [
    "def offspring(parents, size = 210):\n",
    "    os = []\n",
    "    mut_list = []\n",
    "    parent_subset = parents[:, np.random.randint(0, parents.shape[1], size=(size,))] # 2 x λ\n",
    "    for i in range(size):\n",
    "        weights = np.array(parent_subset[0, i].weights)\n",
    "        tmp = random.gauss(parent_subset[1, i], 0.2)\n",
    "        mutation = tmp if tmp > 1e-5 else 1e-5 # update mutation before update the weights (negative replaced with small value)\n",
    "        mutations = np.array([random.gauss(0, mutation) for _ in range(weights.shape[0])])\n",
    "        weights += mutations\n",
    "        new_player = Player(tuple(weights), rules)\n",
    "        os.append(new_player)\n",
    "        mut_list.append(parent_subset[1, i])\n",
    "    return np.array([[*os], [*mut_list]])"
   ],
   "metadata": {
    "collapsed": false
   }
  },
  {
   "cell_type": "code",
   "execution_count": null,
   "outputs": [],
   "source": [
    "pop = generate_population(size = mu)\n",
    "evals = evaluate_offspring(pop)\n",
    "evals.sort(key = lambda x: x[1], reverse = True)\n",
    "prev_evals = map(lambda  x: x[1], evals)\n",
    "\n",
    "pop = np.array([[*pop], [*σ], [*prev_evals]]) # Player, σ value shape: 3 x mu\n",
    "\n",
    "for step in tqdm(range(GENERATIONS)):\n",
    "    # generate offspring\n",
    "    off = offspring(pop[0:2, :], size = λ)\n",
    "    #evaluate offspring\n",
    "    evals = np.array([f for p, f in evaluate_offspring([off[0, i] for i in range(off.shape[1])])])\n",
    "    off = np.vstack([off, evals])\n",
    "    # plus strategy\n",
    "    pop = np.hstack((pop, off))\n",
    "    fit_row = pop[-1,:] # last row is fitness\n",
    "    pop = pop[:, np.argsort(fit_row)]\n",
    "    if step % 20: # to reduce output size\n",
    "        print(f\"Max fitness: {pop[-1, -1]}\") # not deterministic just to see if there is a global optimization\n",
    "    pop = np.copy(pop[:, -mu:])\n"
   ],
   "metadata": {
    "collapsed": false,
    "pycharm": {
     "is_executing": true
    }
   }
  },
  {
   "cell_type": "code",
   "execution_count": 53,
   "outputs": [
    {
     "name": "stdout",
     "output_type": "stream",
     "text": [
      "Player_0\n",
      "weights: 0.02875673585701085 1.3651857268490717 1.1166753384812274 0.14077847236396054 0.05682521679939021 0.04595205914107282 fitness: 0.56\n",
      "Player_1\n",
      "weights: 0.02876197925628513 1.3651785906322917 1.1166625197458722 0.14076987701928537 0.05680499982084915 0.04597331298517471 fitness: 0.44\n",
      "Player_2\n",
      "weights: 0.018589278758053544 1.324757116084051 1.1205752831691425 0.0948172540605404 0.06777655282815388 0.03758948870208941 fitness: 0.4\n",
      "Player_3\n",
      "weights: 0.028789441968199346 1.3652130095990296 1.1166339074589187 0.1407455691723861 0.056800890808821385 0.046018989015716924 fitness: 0.48\n",
      "Player_4\n",
      "weights: 0.02863503179511835 1.3666905240104479 1.1170558786721734 0.13789318433934317 0.06187638645579206 0.046026793514681405 fitness: 0.56\n",
      "Player_5\n",
      "weights: 0.028781456921068514 1.3651981185355362 1.1166505518642302 0.14076095140772896 0.05681162357140301 0.0460403396578738 fitness: 0.48\n",
      "Player_6\n",
      "weights: 0.028759590880610853 1.3651852761376628 1.1166915568946236 0.14080256654305803 0.05680023982797148 0.04595446311237993 fitness: 0.4\n",
      "Player_7\n",
      "weights: 0.028757955921801765 1.3651681218219276 1.1166616246647487 0.14079077693792302 0.056811094016151906 0.04599210030358568 fitness: 0.6\n",
      "Player_8\n",
      "weights: 0.028789997929094445 1.3651960045012768 1.1166389253563693 0.14075691958424916 0.056786821343947386 0.04601103942891017 fitness: 0.4\n",
      "Player_9\n",
      "weights: 0.028772782200038635 1.3652048940929158 1.1166404854131948 0.14075047565773496 0.05679705205793368 0.046026062406702796 fitness: 0.56\n"
     ]
    }
   ],
   "source": [
    "best_players = [pop[0, i] for i in range(pop.shape[1])]\n",
    "for i, man in enumerate(best_players):\n",
    "    print(f\"Player_{i}\")\n",
    "    print(f\"weights: {man}\", end=\"\")\n",
    "    print(f\"fitness: {fitness(man)}\")\n",
    "\n",
    "with open(\"plus_weights.txt\", \"w\") as f:\n",
    "    for man in best_players:\n",
    "        f.write(f\"{man}\\n\")"
   ],
   "metadata": {
    "collapsed": false
   }
  },
  {
   "cell_type": "code",
   "execution_count": 54,
   "outputs": [
    {
     "name": "stderr",
     "output_type": "stream",
     "text": [
      "100%|██████████| 10000/10000 [00:22<00:00, 447.46it/s]"
     ]
    },
    {
     "name": "stdout",
     "output_type": "stream",
     "text": [
      "0.5313\n"
     ]
    },
    {
     "name": "stderr",
     "output_type": "stream",
     "text": [
      "\n"
     ]
    }
   ],
   "source": [
    "games = 10_000\n",
    "best_evolved = best_players[0]\n",
    "winners = [game_simulation(ROWS, K, best_evolved, optimal_player) for _ in tqdm(range(games))]\n",
    "print((games - sum(winners)) / games)"
   ],
   "metadata": {
    "collapsed": false
   }
  }
 ],
 "metadata": {
  "kernelspec": {
   "display_name": "Python 3.10.7 ('ci22-dPIXJ0_o-py3.10')",
   "language": "python",
   "name": "python3"
  },
  "language_info": {
   "codemirror_mode": {
    "name": "ipython",
    "version": 3
   },
   "file_extension": ".py",
   "mimetype": "text/x-python",
   "name": "python",
   "nbconvert_exporter": "python",
   "pygments_lexer": "ipython3",
   "version": "3.11.6"
  },
  "vscode": {
   "interpreter": {
    "hash": "10197e8e2f2aa67e2c349105091c77f4cd384fce4877865f002d9ec653f96bc0"
   }
  }
 },
 "nbformat": 4,
 "nbformat_minor": 2
}
