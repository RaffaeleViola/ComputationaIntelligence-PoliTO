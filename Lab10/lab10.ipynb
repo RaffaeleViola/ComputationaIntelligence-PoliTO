{
 "cells": [
  {
   "cell_type": "markdown",
   "metadata": {},
   "source": [
    "Copyright **`(c)`** 2023 Giovanni Squillero `<giovanni.squillero@polito.it>`  \n",
    "[`https://github.com/squillero/computational-intelligence`](https://github.com/squillero/computational-intelligence)  \n",
    "Free for personal or classroom use; see [`LICENSE.md`](https://github.com/squillero/computational-intelligence/blob/master/LICENSE.md) for details.  "
   ]
  },
  {
   "cell_type": "markdown",
   "metadata": {},
   "source": [
    "# LAB10\n",
    "\n",
    "Use reinforcement learning to devise a tic-tac-toe player.\n",
    "\n",
    "### Deadlines:\n",
    "\n",
    "* Submission: [Dies Natalis Solis Invicti](https://en.wikipedia.org/wiki/Sol_Invictus)\n",
    "* Reviews: [Befana](https://en.wikipedia.org/wiki/Befana)\n",
    "\n",
    "Notes:\n",
    "\n",
    "* Reviews will be assigned  on Monday, December 4\n",
    "* You need to commit in order to be selected as a reviewer (ie. better to commit an empty work than not to commit)"
   ]
  },
  {
   "cell_type": "code",
   "execution_count": 2,
   "outputs": [],
   "source": [
    "import numpy as np\n",
    "import itertools\n",
    "from tqdm import tqdm\n",
    "import random"
   ],
   "metadata": {
    "collapsed": false
   }
  },
  {
   "cell_type": "code",
   "execution_count": 3,
   "metadata": {},
   "outputs": [],
   "source": [
    "class TicTacToe:\n",
    "    def __init__(self):\n",
    "        self._board = np.array([[0, 0, 0], [0, 0, 0], [0, 0, 0]])\n",
    "\n",
    "    def reset(self):\n",
    "        self._board = np.array([[0, 0, 0], [0, 0, 0], [0, 0, 0]])\n",
    "\n",
    "    def add_x(self, pos: tuple[int]):\n",
    "        assert self._board[pos[0]][pos[1]] == 0\n",
    "        self._board[pos[0]][pos[1]] = 1\n",
    "\n",
    "    def add_o(self, pos: tuple[int]):\n",
    "        assert self._board[pos[0]][pos[1]] == 0\n",
    "        self._board[pos[0]][pos[1]] = -1\n",
    "\n",
    "    def check_pos(self, player, pos):\n",
    "        target = 3 if player == \"X\" else -3\n",
    "        center = (1, 1)\n",
    "        right_diag = {(0, 0), (2, 2)}\n",
    "        left_diag = {(0, 2), (2, 0)}\n",
    "        # checking row and column\n",
    "        if self._board[pos[0], :].sum() == target or self._board[:, pos[1]].sum() == target:\n",
    "            return True\n",
    "        # check right_diag\n",
    "        if pos in right_diag or pos == center:\n",
    "            if sum([self._board[dx, dy] for dx, dy in [(0,0), (1, 1), (2, 2)]]) == target:\n",
    "                return True\n",
    "        # check left_diag\n",
    "        if pos in right_diag or pos == center:\n",
    "            if sum([self._board[dx, dy] for dx, dy in [(0,2), (1, 1), (2, 0)]]) == target:\n",
    "                return True\n",
    "        return False\n",
    "\n",
    "    def check(self):\n",
    "        rows = self._board.sum(axis = 0)\n",
    "        cols = self._board.sum(axis = 1)\n",
    "        if(np.any((rows == 3)) or  np.any((cols == 3))\n",
    "                or sum([self._board[dx, dy] for dx, dy in [(0,0), (1, 1), (2, 2)]]) == 3\n",
    "                or sum([self._board[dx, dy] for dx, dy in [(0,2), (1, 1), (2, 0)]]) == 3):\n",
    "            return 1\n",
    "        if(np.any((rows == -3)) or  np.any((cols == -3))\n",
    "                or sum([self._board[dx, dy] for dx, dy in [(0,0), (1, 1), (2, 2)]]) == -3\n",
    "                or sum([self._board[dx, dy] for dx, dy in [(0,2), (1, 1), (2, 0)]]) == -3):\n",
    "            return -1\n",
    "        return 0\n",
    "\n",
    "    def next_moves(self):\n",
    "        return [(i, j) for j in range(3) for i in range(3) if self._board[i, j] == 0]\n",
    "\n",
    "    def __str__(self):\n",
    "        mapping = {0: \"_\", 1: \"X\", -1: \"O\"}\n",
    "        pretty = [[0, 0, 0], [0, 0, 0], [0, 0, 0]]\n",
    "        for i in range(3):\n",
    "            for j in range(3):\n",
    "                pretty[i][j] = mapping[self._board[i, j]]\n",
    "        return \"\\n\".join([\"|\".join(el) for el in pretty])\n",
    "\n",
    "    def new_state(self, move: tuple[int]):\n",
    "        # always player O\n",
    "        board_copy = self._board.copy()\n",
    "        board_copy[move[0], move[1]] = 1\n",
    "        return tuple([tuple(row) for row in list(board_copy)])\n",
    "\n",
    "    def get_state(self):\n",
    "         return tuple([tuple(row) for row in list(self._board)])\n"
   ]
  },
  {
   "cell_type": "code",
   "execution_count": 4,
   "outputs": [
    {
     "name": "stdout",
     "output_type": "stream",
     "text": [
      "3\n",
      "[3 3 3]\n",
      "[0 3 6]\n",
      "_|_|_\n",
      "_|_|_\n",
      "_|_|_\n",
      "((-1, -1, 1), (0, 1, 0), (0, 0, 0))\n"
     ]
    }
   ],
   "source": [
    "board = np.array([[0, 0, 0], [1, 1, 1], [2, 2, 2]])\n",
    "print(board[1, :].sum())\n",
    "print(board.sum(axis = 0))\n",
    "print(board.sum(axis=1))\n",
    "\n",
    "game = TicTacToe()\n",
    "print(game)\n",
    "game.add_o((0, 0))\n",
    "game.add_x((1, 1))\n",
    "game.add_o((0, 1))\n",
    "# game.add_o((0, 1))\n",
    "print(game.new_state((0, 2)))"
   ],
   "metadata": {
    "collapsed": false
   }
  },
  {
   "cell_type": "code",
   "execution_count": 63,
   "outputs": [
    {
     "name": "stdout",
     "output_type": "stream",
     "text": [
      "_|_|_\n",
      "_|_|_\n",
      "_|_|_\n",
      "_|X|_\n",
      "_|_|_\n",
      "_|_|_\n",
      "\n",
      "_|X|_\n",
      "_|O|_\n",
      "_|_|_\n",
      "\n",
      "_|X|_\n",
      "_|O|_\n",
      "_|_|X\n",
      "\n",
      "_|X|_\n",
      "_|O|O\n",
      "_|_|X\n",
      "\n",
      "X|X|_\n",
      "_|O|O\n",
      "_|_|X\n",
      "\n",
      "X|X|_\n",
      "O|O|O\n",
      "_|_|X\n",
      "\n",
      "Player 1 won!\n"
     ]
    }
   ],
   "source": [
    "def game():\n",
    "    inst = TicTacToe()\n",
    "    print(inst)\n",
    "    player = 0\n",
    "    while not inst.check():\n",
    "        move = input(f\"Board:\\n{inst}\\n Player {player} enter move in the form <x-y>\")\n",
    "        xy = move.split(\"-\")\n",
    "        x, y = int(xy[0]), int(xy[1])\n",
    "        if player == 0:\n",
    "            inst.add_x((x, y))\n",
    "        else:\n",
    "            inst.add_o((x, y))\n",
    "        print(inst)\n",
    "        print()\n",
    "        player = 1 - player\n",
    "\n",
    "    print(f\"Player {1 - player} won!\")\n",
    "\n",
    "game()"
   ],
   "metadata": {
    "collapsed": false
   }
  },
  {
   "cell_type": "markdown",
   "source": [
    "# Reiforcement Learning Strategy\n",
    "\n",
    "The idea is to use a *Model-Free* Approach\n",
    "\n",
    "Reward = 1 for game won, 0 for draw, -1 for game lost"
   ],
   "metadata": {
    "collapsed": false
   }
  },
  {
   "cell_type": "code",
   "execution_count": 5,
   "outputs": [],
   "source": [
    "disps = [disp for disp in list(itertools.product([0, 1, -1], repeat = 9)) if -1 <= sum(disp) <= 1] # filter valid states\n",
    "disps = [tuple([disp[ind:ind+3] for ind in range(0, 9, 3)]) for disp in disps]\n",
    "Qtable = {disp: 0 for disp in disps}"
   ],
   "metadata": {
    "collapsed": false
   }
  },
  {
   "cell_type": "code",
   "execution_count": 6,
   "outputs": [
    {
     "name": "stdout",
     "output_type": "stream",
     "text": [
      "8953\n",
      "8953\n"
     ]
    }
   ],
   "source": [
    "print(len(disps))\n",
    "print(len(Qtable))"
   ],
   "metadata": {
    "collapsed": false
   }
  },
  {
   "cell_type": "code",
   "execution_count": 7,
   "outputs": [],
   "source": [
    "def epsilon_greedy_policy(Qtable: dict, state: TicTacToe, epsilon: float):\n",
    "  random_int = random.uniform(0,1)\n",
    "  actions = state.next_moves()\n",
    "  if random_int > epsilon:\n",
    "    return max(actions, key= lambda act: Qtable[state.new_state(act)])\n",
    "  else:\n",
    "    action = actions[random.randint(0, len(actions) - 1)]\n",
    "  return action"
   ],
   "metadata": {
    "collapsed": false
   }
  },
  {
   "cell_type": "code",
   "execution_count": 8,
   "outputs": [],
   "source": [
    "# Training parameters\n",
    "n_training_episodes = 100_000\n",
    "learning_rate = 0.7\n",
    "\n",
    "# Evaluation parameters\n",
    "n_eval_episodes = 100\n",
    "\n",
    "# Environment parameters\n",
    "gamma = 0.95\n",
    "\n",
    "# Exploration parameters\n",
    "max_epsilon = 1.0\n",
    "min_epsilon = 0.05\n",
    "decay_rate = 0.0005"
   ],
   "metadata": {
    "collapsed": false
   }
  },
  {
   "cell_type": "code",
   "execution_count": 9,
   "outputs": [
    {
     "name": "stderr",
     "output_type": "stream",
     "text": [
      "100%|██████████| 100000/100000 [00:20<00:00, 4954.44it/s]\n"
     ]
    }
   ],
   "source": [
    "env = TicTacToe()\n",
    "for episode in tqdm(range(n_training_episodes)):\n",
    "    epsilon = min_epsilon + (max_epsilon - min_epsilon) * np.exp(-decay_rate * episode)\n",
    "    # Reset the environment\n",
    "    env.reset()\n",
    "    player = 1\n",
    "    done = 0\n",
    "    steps = 0\n",
    "    # simulating game\n",
    "    state_action = env.get_state()\n",
    "    while done == 0 and steps <9:\n",
    "        actions = env.next_moves()\n",
    "        if player == 1:\n",
    "            action = epsilon_greedy_policy(Qtable, env, epsilon)\n",
    "            env.add_x(action)\n",
    "            state_action = env.get_state()\n",
    "            reward = env.check()\n",
    "            if reward:\n",
    "                max_rew = 1\n",
    "                Qtable[state_action] = Qtable[state_action] + learning_rate * (\n",
    "                    reward + gamma * max_rew - Qtable[state_action])\n",
    "        else:\n",
    "            action = actions[random.randint(0, len(actions) - 1)]\n",
    "            env.add_o(action)\n",
    "            reward = env.check()\n",
    "            actions = env.next_moves()\n",
    "            if actions:\n",
    "                max_act = max(actions, key=lambda act: Qtable[env.new_state(act)])\n",
    "                max_rew  = Qtable[env.new_state(max_act)]\n",
    "            else:\n",
    "                max_rew = 0\n",
    "            Qtable[state_action] = Qtable[state_action] + learning_rate * (\n",
    "                    reward + gamma * max_rew - Qtable[state_action])\n",
    "        done = reward\n",
    "        player = 1 - player\n",
    "        steps += 1"
   ],
   "metadata": {
    "collapsed": false
   }
  },
  {
   "cell_type": "code",
   "execution_count": null,
   "outputs": [],
   "source": [
    "env = TicTacToe()\n",
    "for episode in tqdm(range(n_training_episodes)):\n",
    "    epsilon = min_epsilon + (max_epsilon - min_epsilon) * np.exp(-decay_rate * episode)\n",
    "    # Reset the environment\n",
    "    env.reset()\n",
    "    player = 1\n",
    "    done = 0\n",
    "    steps = 0\n",
    "    # simulating game\n",
    "    while done == 0 and steps <=9:\n",
    "        actions = env.next_moves()\n",
    "        if player == 1:\n",
    "            action = epsilon_greedy_policy(Qtable, env, epsilon)\n",
    "            env.add_x(action)\n",
    "            state_action = env.get_state()\n",
    "            reward = env.check()\n",
    "            if actions:\n",
    "                max_act = max(actions, key=lambda act: Qtable[env.new_state(act)])\n",
    "                max_rew  = Qtable[env.new_state(max_act)]\n",
    "            else:\n",
    "                max_rew = 0\n",
    "            Qtable[state_action] = Qtable[state_action] + learning_rate * (\n",
    "                    reward + gamma * max_rew - Qtable[state_action])\n",
    "            done = reward\n",
    "        else:\n",
    "            action = actions[random.randint(0, len(actions) - 1)]\n",
    "            env.add_o(action)\n",
    "            done = env.check()\n",
    "        player = 1 - player\n",
    "        steps += 1"
   ],
   "metadata": {
    "collapsed": false
   }
  },
  {
   "cell_type": "code",
   "execution_count": null,
   "outputs": [],
   "source": [
    "print(Qtable.values())"
   ],
   "metadata": {
    "collapsed": false,
    "pycharm": {
     "is_executing": true
    }
   }
  },
  {
   "cell_type": "code",
   "execution_count": 13,
   "outputs": [],
   "source": [
    "class Player:\n",
    "    def __init__(self, name, qtable: dict, letter):\n",
    "        self._name = name\n",
    "        self._QTable = qtable\n",
    "        self._letter = letter\n",
    "\n",
    "    def get_name(self):\n",
    "        return self._name\n",
    "\n",
    "    def move(self, game_inst: TicTacToe):\n",
    "        acts = game_inst.next_moves()\n",
    "        best_move = max(acts, key=lambda act: Qtable[game_inst.new_state(act)])\n",
    "        if self._letter == \"X\":\n",
    "            game_inst.add_x(best_move)\n",
    "        else:\n",
    "            game_inst.add_o(best_move)"
   ],
   "metadata": {
    "collapsed": false
   }
  },
  {
   "cell_type": "code",
   "execution_count": null,
   "outputs": [],
   "source": [
    "def game_again_agent():\n",
    "    inst = TicTacToe()\n",
    "    print(inst)\n",
    "    player = 1\n",
    "    agent = Player(\"Agent\", Qtable, \"X\")\n",
    "    steps = 0\n",
    "    while inst.check() == 0 and steps < 9:\n",
    "        if player == 0:\n",
    "            move = input(f\"Board:\\n{inst}\\n Player {player} enter move in the form <x-y>\")\n",
    "            xy = move.split(\"-\")\n",
    "            x, y = int(xy[0]), int(xy[1])\n",
    "            inst.add_o((x, y))\n",
    "        else:\n",
    "            agent.move(inst)\n",
    "        print(inst)\n",
    "        print()\n",
    "        player = 1 - player\n",
    "        steps += 1\n",
    "    if inst.check() != 0:\n",
    "        print(f\"Player {1 - player} won!\")\n",
    "    else:\n",
    "        print(f\"It's a draw guys!\")\n",
    "\n",
    "game_again_agent()"
   ],
   "metadata": {
    "collapsed": false,
    "pycharm": {
     "is_executing": true
    }
   }
  }
 ],
 "metadata": {
  "kernelspec": {
   "display_name": "ci-fLJ3OwGs-py3.12",
   "language": "python",
   "name": "python3"
  },
  "language_info": {
   "codemirror_mode": {
    "name": "ipython",
    "version": 3
   },
   "file_extension": ".py",
   "mimetype": "text/x-python",
   "name": "python",
   "nbconvert_exporter": "python",
   "pygments_lexer": "ipython3",
   "version": "3.12.0"
  }
 },
 "nbformat": 4,
 "nbformat_minor": 2
}
