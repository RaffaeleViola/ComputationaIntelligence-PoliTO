{
 "cells": [
  {
   "cell_type": "code",
   "execution_count": 242,
   "outputs": [],
   "source": [
    "import numpy as np\n",
    "from random import random\n",
    "from queue import PriorityQueue, SimpleQueue\n",
    "from functools import reduce\n",
    "from tqdm import tqdm\n",
    "from math import ceil"
   ],
   "metadata": {
    "collapsed": false
   }
  },
  {
   "cell_type": "code",
   "execution_count": 215,
   "outputs": [],
   "source": [
    "PROBLEM_SIZE = 20\n",
    "NUM_SETS = 40"
   ],
   "metadata": {
    "collapsed": false
   }
  },
  {
   "cell_type": "code",
   "execution_count": 198,
   "outputs": [],
   "source": [
    "def random_sets():\n",
    "    sets = tuple(sorted([np.array([random() < .3 for _ in range(PROBLEM_SIZE)]) for _ in range(NUM_SETS)], key=lambda x: -sum(x)))\n",
    "    while not goal_check((set(range(NUM_SETS)), set()), sets):\n",
    "        sets = tuple(sorted([np.array([random() < .3 for _ in range(PROBLEM_SIZE)]) for _ in range(NUM_SETS)], key=lambda x: -sum(x)))\n",
    "    return sets"
   ],
   "metadata": {
    "collapsed": false
   }
  },
  {
   "cell_type": "code",
   "execution_count": 244,
   "outputs": [],
   "source": [
    "def goal_check(state, sets):\n",
    "    return np.all(reduce(\n",
    "        np.logical_or,\n",
    "        [sets[i] for i in state[0]],\n",
    "        np.array([False for _ in range(PROBLEM_SIZE)]),\n",
    "    ))\n",
    "\n",
    "\n",
    "def h_not_admissible(state, sets):\n",
    "    return PROBLEM_SIZE - sum(\n",
    "        reduce(\n",
    "            np.logical_or,\n",
    "            [sets[i] for i in state[0]],\n",
    "            np.array([False for _ in range(PROBLEM_SIZE)]),\n",
    "        ))\n",
    "\n",
    "def h(state, sets):\n",
    "    already_covered = reduce(\n",
    "            np.logical_or,\n",
    "            [sets[i] for i in state[0]],\n",
    "            np.array([False for _ in range(PROBLEM_SIZE)]),\n",
    "        )\n",
    "    if np.all(already_covered):\n",
    "        return 0\n",
    "    missing = PROBLEM_SIZE - sum( already_covered )\n",
    "    largest_to_take = max(sum(np.logical_and(sets[set_id], np.logical_not(already_covered))) for set_id in state[1]) # take only the next possible sets\n",
    "    return ceil(missing / largest_to_take)\n",
    "\n",
    "def professorh(state, sets):\n",
    "    already_covered = reduce(\n",
    "            np.logical_or,\n",
    "            [sets[i] for i in state[0]],\n",
    "            np.array([False for _ in range(PROBLEM_SIZE)]),\n",
    "        )\n",
    "    if np.all(already_covered):\n",
    "        return 0\n",
    "    missing_size = PROBLEM_SIZE - sum(already_covered)\n",
    "    candidates = sorted((sum(np.logical_and(s, np.logical_not(already_covered))) for s in sets), reverse=True)\n",
    "    taken = 1\n",
    "    while sum(candidates[:taken]) < missing_size:\n",
    "        taken += 1\n",
    "    return taken\n",
    "\n",
    "\n",
    "def professorf(state, sets):\n",
    "    return len(state[0]) + professorh(state, sets)\n",
    "\n",
    "def g(state):\n",
    "    return len(state[0])\n",
    "\n",
    "def f(state, sets):\n",
    "    return g(state) + h(state, sets)\n"
   ],
   "metadata": {
    "collapsed": false
   }
  },
  {
   "cell_type": "code",
   "execution_count": 237,
   "outputs": [],
   "source": [
    "def find_sol(sets):\n",
    "    frontier = PriorityQueue()\n",
    "    actions = filter(lambda x: sum(sets[x]) != 0, range(NUM_SETS))\n",
    "    frontier.put( (0, (set(), set(actions))) )\n",
    "    current_state = frontier.get()[1]\n",
    "    counter = 0\n",
    "\n",
    "    while not goal_check(current_state, sets):\n",
    "        counter += 1\n",
    "        for action in current_state[1]:\n",
    "            if sum(sets[action]) == 0:\n",
    "                continue\n",
    "            new_state = (current_state[0] | {action}, current_state[1] - {action})\n",
    "            frontier.put( (f(new_state, sets), new_state) )\n",
    "        current_state = frontier.get()[1]\n",
    "    return counter, len(current_state[0])\n",
    "\n",
    "def find_sol_professor(sets):\n",
    "    frontier = PriorityQueue()\n",
    "    actions = filter(lambda x: sum(sets[x]) != 0, range(NUM_SETS))\n",
    "    frontier.put( (0, (set(), set(actions))) )\n",
    "    current_state = frontier.get()[1]\n",
    "    counter = 0\n",
    "\n",
    "    while not goal_check(current_state, sets):\n",
    "        counter += 1\n",
    "        for action in current_state[1]:\n",
    "            new_state = (current_state[0] | {action}, current_state[1] - {action})\n",
    "            frontier.put( (professorf(new_state, sets), new_state) )\n",
    "        current_state = frontier.get()[1]\n",
    "    return counter, len(current_state[0])"
   ],
   "metadata": {
    "collapsed": false
   }
  },
  {
   "cell_type": "code",
   "execution_count": 246,
   "outputs": [
    {
     "name": "stderr",
     "output_type": "stream",
     "text": [
      "100%|██████████| 3/3 [00:16<00:00,  5.55s/it]"
     ]
    },
    {
     "name": "stdout",
     "output_type": "stream",
     "text": [
      "Average my solution steps: 100.0\n",
      "Average professor solution steps: 84.0\n"
     ]
    },
    {
     "name": "stderr",
     "output_type": "stream",
     "text": [
      "\n"
     ]
    }
   ],
   "source": [
    "sum_counter_sol = 0\n",
    "sum_counter_professor_sol = 0\n",
    "steps = 3\n",
    "for _ in tqdm(range(steps)):\n",
    "    curr_sets = random_sets()\n",
    "    c, len_sol = find_sol(curr_sets)\n",
    "    sum_counter_sol += c\n",
    "    c, len_professor_sol = find_sol_professor(curr_sets)\n",
    "    sum_counter_professor_sol += c\n",
    "    if len_sol != len_professor_sol:\n",
    "        print(\"Solution is not optimal\")\n",
    "        print(f'sol: {len_sol}, professor_sol: {len_professor_sol}')\n",
    "avg_sol = float(sum_counter_sol) / float(steps)\n",
    "avg_professor_sol = float(sum_counter_professor_sol) / float(steps)\n",
    "print(f'Average my solution steps: {avg_sol}')\n",
    "print(f'Average professor solution steps: {avg_professor_sol}')"
   ],
   "metadata": {
    "collapsed": false
   }
  }
 ],
 "metadata": {
  "kernelspec": {
   "display_name": "Python 3",
   "language": "python",
   "name": "python3"
  },
  "language_info": {
   "codemirror_mode": {
    "name": "ipython",
    "version": 2
   },
   "file_extension": ".py",
   "mimetype": "text/x-python",
   "name": "python",
   "nbconvert_exporter": "python",
   "pygments_lexer": "ipython2",
   "version": "2.7.6"
  }
 },
 "nbformat": 4,
 "nbformat_minor": 0
}
