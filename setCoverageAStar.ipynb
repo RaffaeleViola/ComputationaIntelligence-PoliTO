{
 "cells": [
  {
   "cell_type": "code",
   "execution_count": 46,
   "outputs": [],
   "source": [
    "import numpy as np\n",
    "from random import random\n",
    "from queue import PriorityQueue, SimpleQueue\n",
    "from functools import reduce"
   ],
   "metadata": {
    "collapsed": false
   }
  },
  {
   "cell_type": "code",
   "execution_count": 47,
   "outputs": [],
   "source": [
    "PROBLEM_SIZE = 50\n",
    "NUM_SETS = 10_000"
   ],
   "metadata": {
    "collapsed": false
   }
  },
  {
   "cell_type": "code",
   "execution_count": 48,
   "outputs": [],
   "source": [
    "sets = tuple(np.array([random() < .3 for _ in range(PROBLEM_SIZE)]) for _ in range(NUM_SETS))"
   ],
   "metadata": {
    "collapsed": false
   }
  },
  {
   "cell_type": "code",
   "execution_count": 49,
   "outputs": [],
   "source": [
    "def goal_check(state):\n",
    "    return np.all(reduce(\n",
    "        np.logical_or,\n",
    "        [sets[i] for i in state[0]],\n",
    "        np.array([False for _ in range(PROBLEM_SIZE)]),\n",
    "    ))\n",
    "\n",
    "\n",
    "def h(state):\n",
    "    return PROBLEM_SIZE - sum(\n",
    "        reduce(\n",
    "            np.logical_or,\n",
    "            [sets[i] for i in state[0]],\n",
    "            np.array([False for _ in range(PROBLEM_SIZE)]),\n",
    "        ))\n",
    "\n",
    "\n",
    "def g(state):\n",
    "    return len(state[0])\n",
    "\n",
    "def f(actual, new):\n",
    "    return g(actual) + h(new)\n"
   ],
   "metadata": {
    "collapsed": false
   }
  },
  {
   "cell_type": "code",
   "execution_count": 50,
   "outputs": [],
   "source": [
    "assert goal_check((set(range(NUM_SETS)), set())), \"NOT SOLVABLE\""
   ],
   "metadata": {
    "collapsed": false
   }
  },
  {
   "cell_type": "code",
   "execution_count": 51,
   "outputs": [],
   "source": [
    "frontier = PriorityQueue()\n",
    "frontier.put( (0, (set(), set(range(NUM_SETS)))) )"
   ],
   "metadata": {
    "collapsed": false
   }
  },
  {
   "cell_type": "code",
   "execution_count": 52,
   "outputs": [
    {
     "name": "stdout",
     "output_type": "stream",
     "text": [
      "3\n",
      "SOLUTION\n",
      "[ True  True False False False False  True False False False  True  True\n",
      "  True False False  True False False False  True  True  True False False\n",
      " False False  True  True False False  True  True False  True  True False\n",
      " False  True  True False  True False False  True  True False  True False\n",
      "  True  True]\n",
      "[False  True False False  True False  True  True  True  True  True  True\n",
      " False False False False False False False False False False False False\n",
      "  True False False False  True  True False False  True False False  True\n",
      " False  True False False False  True False False False False False  True\n",
      " False  True]\n",
      "[False False  True  True  True  True False False False False  True  True\n",
      " False  True  True  True  True  True  True False False  True  True  True\n",
      "  True  True False False  True False False False  True False  True  True\n",
      "  True False False  True  True False  True False  True  True  True  True\n",
      " False False]\n"
     ]
    }
   ],
   "source": [
    "current_state = frontier.get()[1]\n",
    "counter = 0\n",
    "\n",
    "while not goal_check(current_state):\n",
    "    counter += 1\n",
    "    for action in current_state[1]:\n",
    "        if sum(sets[action]) == 0:\n",
    "            continue\n",
    "        new_state = (current_state[0] | {action}, current_state[1] - {action})\n",
    "        frontier.put( (f(current_state, new_state), new_state) )\n",
    "    current_state = frontier.get()[1]\n",
    "\n",
    "print(counter)\n",
    "print(\"SOLUTION\")\n",
    "for i in current_state[0]:\n",
    "    print(sets[i])"
   ],
   "metadata": {
    "collapsed": false
   }
  }
 ],
 "metadata": {
  "kernelspec": {
   "display_name": "Python 3",
   "language": "python",
   "name": "python3"
  },
  "language_info": {
   "codemirror_mode": {
    "name": "ipython",
    "version": 2
   },
   "file_extension": ".py",
   "mimetype": "text/x-python",
   "name": "python",
   "nbconvert_exporter": "python",
   "pygments_lexer": "ipython2",
   "version": "2.7.6"
  }
 },
 "nbformat": 4,
 "nbformat_minor": 0
}
