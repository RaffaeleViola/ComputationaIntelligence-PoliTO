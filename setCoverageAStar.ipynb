{
 "cells": [
  {
   "cell_type": "code",
   "execution_count": 2,
   "outputs": [],
   "source": [
    "import numpy as np\n",
    "from random import random\n",
    "from queue import PriorityQueue, SimpleQueue\n",
    "from functools import reduce\n",
    "from tqdm import tqdm\n",
    "import timeit"
   ],
   "metadata": {
    "collapsed": false
   }
  },
  {
   "cell_type": "code",
   "execution_count": 3,
   "outputs": [],
   "source": [
    "PROBLEM_SIZE = 20\n",
    "NUM_SETS = 40"
   ],
   "metadata": {
    "collapsed": false
   }
  },
  {
   "cell_type": "code",
   "execution_count": 4,
   "outputs": [],
   "source": [
    "def random_sets():\n",
    "    sets = tuple(sorted([np.array([random() < .3 for _ in range(PROBLEM_SIZE)]) for _ in range(NUM_SETS)], key=lambda x: -sum(x)))\n",
    "    while not goal_check((set(range(NUM_SETS)), set()), sets):\n",
    "        sets = tuple(sorted([np.array([random() < .3 for _ in range(PROBLEM_SIZE)]) for _ in range(NUM_SETS)], key=lambda x: -sum(x)))\n",
    "    return sets"
   ],
   "metadata": {
    "collapsed": false
   }
  },
  {
   "cell_type": "code",
   "execution_count": 5,
   "outputs": [],
   "source": [
    "def goal_check(state, sets):\n",
    "    return np.all(reduce(\n",
    "        np.logical_or,\n",
    "        [sets[i] for i in state[0]],\n",
    "        np.array([False for _ in range(PROBLEM_SIZE)]),\n",
    "    ))\n",
    "\n",
    "\n",
    "def h_not_admissible(state, sets):\n",
    "    return PROBLEM_SIZE - sum(\n",
    "        reduce(\n",
    "            np.logical_or,\n",
    "            [sets[i] for i in state[0]],\n",
    "            np.array([False for _ in range(PROBLEM_SIZE)]),\n",
    "        ))\n",
    "\n",
    "def h(state, sets):\n",
    "    already_covered = reduce(\n",
    "            np.logical_or,\n",
    "            [sets[i] for i in state[0]],\n",
    "            np.array([False for _ in range(PROBLEM_SIZE)]),\n",
    "        )\n",
    "    if np.all(already_covered):\n",
    "        return 0\n",
    "    missing = PROBLEM_SIZE - sum( already_covered )\n",
    "    candidates = sorted((sum(np.logical_and(sets[set_id], np.logical_not(already_covered))) for set_id in state[1]), reverse=True)\n",
    "    taken = 1\n",
    "    cur_sum = candidates[0]\n",
    "    while cur_sum < missing:\n",
    "        cur_sum += candidates[taken]\n",
    "        taken += 1\n",
    "    return taken\n",
    "\n",
    "def professorh(state, sets):\n",
    "    already_covered = reduce(\n",
    "            np.logical_or,\n",
    "            [sets[i] for i in state[0]],\n",
    "            np.array([False for _ in range(PROBLEM_SIZE)]),\n",
    "        )\n",
    "    if np.all(already_covered):\n",
    "        return 0\n",
    "    missing_size = PROBLEM_SIZE - sum(already_covered)\n",
    "    candidates = sorted((sum(np.logical_and(s, np.logical_not(already_covered))) for s in sets), reverse=True)\n",
    "    taken = 1\n",
    "    while sum(candidates[:taken]) < missing_size:\n",
    "        taken += 1\n",
    "    return taken\n",
    "\n",
    "\n",
    "def professorf(state, sets):\n",
    "    return len(state[0]) + professorh(state, sets)\n",
    "\n",
    "def g(state):\n",
    "    return len(state[0])\n",
    "\n",
    "def f(state, sets):\n",
    "    return g(state) + h(state, sets)\n"
   ],
   "metadata": {
    "collapsed": false
   }
  },
  {
   "cell_type": "code",
   "execution_count": 6,
   "outputs": [],
   "source": [
    "def find_sol(sets):\n",
    "    frontier = PriorityQueue()\n",
    "    actions = filter(lambda x: sum(sets[x]) != 0, range(NUM_SETS))\n",
    "    frontier.put( (0, (set(), set(actions))) )\n",
    "    current_state = frontier.get()[1]\n",
    "    counter = 0\n",
    "\n",
    "    while not goal_check(current_state, sets):\n",
    "        counter += 1\n",
    "        for action in current_state[1]:\n",
    "            if sum(sets[action]) == 0:\n",
    "                continue\n",
    "            new_state = (current_state[0] | {action}, current_state[1] - {action})\n",
    "            frontier.put( (f(new_state, sets), new_state) )\n",
    "        current_state = frontier.get()[1]\n",
    "    return counter, len(current_state[0])\n",
    "\n",
    "def find_sol_professor(sets):\n",
    "    frontier = PriorityQueue()\n",
    "    actions = filter(lambda x: sum(sets[x]) != 0, range(NUM_SETS))\n",
    "    frontier.put( (0, (set(), set(actions))) )\n",
    "    current_state = frontier.get()[1]\n",
    "    counter = 0\n",
    "\n",
    "    while not goal_check(current_state, sets):\n",
    "        counter += 1\n",
    "        for action in current_state[1]:\n",
    "            new_state = (current_state[0] | {action}, current_state[1] - {action})\n",
    "            frontier.put( (professorf(new_state, sets), new_state) )\n",
    "        current_state = frontier.get()[1]\n",
    "    return counter, len(current_state[0])"
   ],
   "metadata": {
    "collapsed": false
   }
  },
  {
   "cell_type": "code",
   "execution_count": null,
   "outputs": [],
   "source": [
    "sum_counter_sol = 0\n",
    "sum_counter_professor_sol = 0\n",
    "steps = 10\n",
    "for _ in tqdm(range(steps)):\n",
    "    curr_sets = random_sets()\n",
    "    c, len_sol = find_sol(curr_sets)\n",
    "    sum_counter_sol += c\n",
    "    c, len_professor_sol = find_sol_professor(curr_sets)\n",
    "    sum_counter_professor_sol += c\n",
    "    if len_sol != len_professor_sol:\n",
    "        print(\"Solution is not optimal\")\n",
    "        print(f'sol: {len_sol}, professor_sol: {len_professor_sol}')\n",
    "avg_sol = float(sum_counter_sol) / float(steps)\n",
    "avg_professor_sol = float(sum_counter_professor_sol) / float(steps)\n",
    "print(f'Average my solution steps: {avg_sol}')\n",
    "print(f'Average professor solution steps: {avg_professor_sol}')"
   ],
   "metadata": {
    "collapsed": false,
    "pycharm": {
     "is_executing": true
    }
   }
  },
  {
   "cell_type": "code",
   "execution_count": 8,
   "outputs": [
    {
     "name": "stdout",
     "output_type": "stream",
     "text": [
      "My solution - set n°0 time: 0.786881191700013\n",
      "Professor solution - set n°0 time: 0.8096247249999579\n",
      "My solution - set n°1 time: 5.86022115420019\n",
      "Professor solution - set n°1 time: 6.1391498583001525\n",
      "My solution - set n°2 time: 5.617038737499752\n",
      "Professor solution - set n°2 time: 5.812892770799953\n",
      "My solution - set n°3 time: 1.2400040542001078\n",
      "Professor solution - set n°3 time: 1.2740204124998855\n",
      "My solution - set n°4 time: 6.035132554200027\n",
      "Professor solution - set n°4 time: 6.318131079100203\n",
      "My solution - set n°5 time: 0.7692482457998266\n",
      "Professor solution - set n°5 time: 0.7859249665998504\n",
      "My solution - set n°6 time: 0.4888968958999612\n",
      "Professor solution - set n°6 time: 0.49718988749991694\n",
      "My solution - set n°7 time: 5.751743604200238\n",
      "Professor solution - set n°7 time: 6.067144595900027\n",
      "My solution - set n°8 time: 0.5179373041999498\n",
      "Professor solution - set n°8 time: 0.5319015291999676\n",
      "My solution - set n°9 time: 0.9086001416999352\n",
      "Professor solution - set n°9 time: 0.9418914916997891\n"
     ]
    }
   ],
   "source": [
    "sets_batch = [random_sets() for _ in range(10)]\n",
    "for i, sets in enumerate(sets_batch):\n",
    "    print(f'My solution - set n°{i} time: {timeit.timeit(lambda: find_sol(sets), number = 10) / 10}')\n",
    "    print(f'Professor solution - set n°{i} time: {timeit.timeit(lambda: find_sol_professor(sets), number = 10) / 10}')\n"
   ],
   "metadata": {
    "collapsed": false
   }
  }
 ],
 "metadata": {
  "kernelspec": {
   "display_name": "Python 3",
   "language": "python",
   "name": "python3"
  },
  "language_info": {
   "codemirror_mode": {
    "name": "ipython",
    "version": 2
   },
   "file_extension": ".py",
   "mimetype": "text/x-python",
   "name": "python",
   "nbconvert_exporter": "python",
   "pygments_lexer": "ipython2",
   "version": "2.7.6"
  }
 },
 "nbformat": 4,
 "nbformat_minor": 0
}
